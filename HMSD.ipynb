{
 "cells": [
  {
   "cell_type": "code",
   "execution_count": 269,
   "id": "906b65e3",
   "metadata": {},
   "outputs": [],
   "source": [
    "from sklearn.metrics import accuracy_score, classification_report, confusion_matrix, auc, roc_curve\n",
    "import numpy as np\n",
    "import matplotlib.pyplot as plt\n",
    "from tqdm.auto import tqdm\n",
    "from torchvision.transforms import CenterCrop, ToTensor, Compose\n",
    "import seaborn as sb\n",
    "import pandas as pd\n",
    "import yaml\n",
    "import os\n",
    "from transformers import BertTokenizer, BertTokenizerFast\n",
    "from transformers import BeitFeatureExtractor \n",
    "from PIL import Image\n",
    "from torchvision.datasets import ImageFolder\n",
    "from torchvision import transforms\n",
    "from transformers import BertForSequenceClassification, BeitForImageClassification, Trainer, TrainingArguments,  BeitConfig, BertConfig\n",
    "import wandb\n",
    "from transformers.models.bert.modeling_bert import SequenceClassifierOutput\n",
    "from torch.nn import CrossEntropyLoss\n",
    "from transformers import CLIPModel, CLIPConfig\n",
    "from transformers import ViltModel, ViltConfig\n",
    "from sklearn.preprocessing import LabelEncoder\n",
    "from transformers import BertForSequenceClassification, BertModel\n",
    "import torch\n",
    "import torch.nn as nn"
   ]
  },
  {
   "cell_type": "code",
   "execution_count": 270,
   "id": "2ec00699",
   "metadata": {},
   "outputs": [],
   "source": [
    "class MMTD(torch.nn.Module):\n",
    "    def __init__(self, bert_cfg=BertConfig(), beit_cfg=BeitConfig(), bert_pretrain_weight=None, beit_pretrain_weight=None):\n",
    "        super(MMTD, self).__init__()\n",
    "\n",
    "        self.device = torch.device(\"cuda\") if torch.cuda.is_available() else torch.device(\"cpu\")\n",
    "\n",
    "        self.text_encoder = BertForSequenceClassification.from_pretrained(bert_pretrain_weight) if bert_pretrain_weight is not None else BertForSequenceClassification(bert_cfg)\n",
    "        self.image_encoder = BeitForImageClassification.from_pretrained(beit_pretrain_weight) if beit_pretrain_weight is not None else BeitForImageClassification(beit_cfg)\n",
    "\n",
    "        \n",
    "        self.text_encoder.config.output_hidden_states = True        \n",
    "        self.image_encoder.config.output_hidden_states = True\n",
    "\n",
    "\n",
    "        self.multi_modality_transformer_layer = torch.nn.TransformerEncoderLayer(d_model=768, nhead=8, batch_first=True)\n",
    "        \n",
    "        self.pooler = torch.nn.Sequential(\n",
    "            torch.nn.Linear(768, 768),\n",
    "            torch.nn.Tanh()\n",
    "        )\n",
    "              \n",
    "        self.classifier = torch.nn.Linear(768, 2)\n",
    "        self.num_labels = 2\n",
    "        # self.dropout = torch.nn.Dropout(p=0.1)\n",
    "        \n",
    "\n",
    "    def forward(self, input_ids=None, token_type_ids=None, attention_mask=None, pixel_values=None, url_input_ids=None, url_token_type_ids=None, url_attention_mask=None, Obfuscation=None, labels=None, length=None, digit_proportion=None, unique_word_count=None, special_char_proportion=None, sentiment_polarity=None, lexical_diversity=None, average_word_length=None):\n",
    "        \n",
    "        text_outputs = self.text_encoder(input_ids=input_ids, token_type_ids=token_type_ids, attention_mask=attention_mask)        \n",
    "        image_outputs = self.image_encoder(pixel_values=pixel_values)\n",
    "\n",
    "        text_last_hidden_state = text_outputs.hidden_states[12]\n",
    "        image_last_hidden_state = image_outputs.hidden_states[12]\n",
    "\n",
    " \n",
    "\n",
    "        text_last_hidden_state += torch.zeros(text_last_hidden_state.size()).to(self.device)\n",
    "        image_last_hidden_state += torch.ones(image_last_hidden_state.size()).to(self.device)\n",
    "        \n",
    "        fuse_hidden_state = torch.cat([text_last_hidden_state, image_last_hidden_state], dim=1)      \n",
    "\n",
    "        outputs = self.multi_modality_transformer_layer(fuse_hidden_state)        \n",
    "        outputs = self.pooler(outputs[:, 0, :])          \n",
    "        logits = self.classifier(outputs)\n",
    "\n",
    "        loss = None\n",
    "        \n",
    "        if labels is not None:\n",
    "            loss_fct = CrossEntropyLoss()\n",
    "            loss = loss_fct(logits.view(-1, self.num_labels), labels.view(-1))\n",
    "        return SequenceClassifierOutput(\n",
    "            loss=loss,\n",
    "            logits=logits,\n",
    "            hidden_states=None,\n",
    "            attentions=None,\n",
    "        )"
   ]
  },
  {
   "cell_type": "code",
   "execution_count": 271,
   "id": "18a4b64b",
   "metadata": {},
   "outputs": [],
   "source": [
    "def save_config(config: dict, save_path: str):\n",
    "    with open(save_path, 'w') as f:\n",
    "        f.write(yaml.dump(config, allow_unicode=True))\n",
    "\n",
    "\n",
    "def metrics(eval_pred):\n",
    "    logits, labels = eval_pred\n",
    "    predictions = np.argmax(logits, axis=-1)\n",
    "    acc = accuracy_score(labels, predictions)\n",
    "    return {\"acc\": acc}\n",
    "\n",
    "\n",
    "class EvalMetrics:\n",
    "    def __init__(self, save_path=None, save_name=None, heatmap=False, target_names=None):\n",
    "        self.save_path = save_path\n",
    "        self.save_name = save_name\n",
    "        self.heatmap = heatmap\n",
    "        self.classes = target_names\n",
    "\n",
    "    def __call__(self, eval_pred):\n",
    "        logits, labels = eval_pred\n",
    "        predictions = np.argmax(logits, axis=-1)\n",
    "        scores = torch.softmax(torch.from_numpy(logits).float(), dim=1)\n",
    "        scores = scores.detach().numpy()\n",
    "        plt.plot([0, 1], [0, 1], 'k--', lw=2)\n",
    "        plt.xlim([0.0, 1.0])\n",
    "        plt.ylim([0.0, 1.05])\n",
    "        plt.xlabel('False Positive Rate')\n",
    "        plt.ylabel('True Positive Rate')\n",
    "        if self.save_name is not None:\n",
    "            plt.title('ROC graph of ' + self.save_name)\n",
    "        else:\n",
    "            plt.title('ROC graph')\n",
    "\n",
    "        \n",
    "        \n",
    "        classes = self.classes \n",
    "        colors = ['navy', 'aqua', 'darkorange', 'cornflowerblue', 'green']\n",
    "\n",
    "\n",
    "        for i in range(len(classes)):\n",
    "            fpr, tpr, thresholds = roc_curve(labels, scores[:, i], pos_label=i)\n",
    "            auc_values = auc(fpr, tpr)\n",
    "            plt.plot(fpr, tpr, color=colors[i],\n",
    "                     label='ROC curve of {0} (area = {1:0.8f})'''.format(classes[i], auc_values))\n",
    "\n",
    "        plt.legend(loc=\"lower right\")\n",
    "        if self.save_name is not None:\n",
    "            plt.savefig(os.path.join(self.save_path, self.save_name + '_roc.jpg').replace('\\\\', '/'))\n",
    "            \n",
    "        plt.show()\n",
    "\n",
    "        acc = accuracy_score(labels, predictions)\n",
    "        report = classification_report(labels, predictions, target_names=classes)\n",
    "        matrix = confusion_matrix(labels, predictions)\n",
    "        if self.heatmap:\n",
    "            sb.heatmap(matrix, annot=True, fmt='d', cmap='Blues')\n",
    "            plt.xlabel('Predicted')\n",
    "            plt.ylabel('Actual')\n",
    "\n",
    "            if self.save_name is not None:\n",
    "                plt.title(self.save_name + '_heatmap')\n",
    "                plt.savefig(os.path.join(self.save_path, self.save_name + '_heatmap.jpg').replace('\\\\', '/'))\n",
    "            else:\n",
    "                plt.title('heatmap')\n",
    "            plt.show()\n",
    "        if self.save_name is not None:\n",
    "            with open(os.path.join(self.save_path, self.save_name + '.txt'), 'w') as f:\n",
    "                f.write(self.save_name + '\\n')\n",
    "                f.write(\"acc: \" + str(acc))\n",
    "                f.write(\"\\n\\nreport:\\n\")\n",
    "                f.write(report)\n",
    "                f.write(\"\\nconfusion matrix:\\n\")\n",
    "                f.write(str(matrix))\n",
    "        return {\"acc\": acc}\n",
    "\n"
   ]
  },
  {
   "cell_type": "code",
   "execution_count": 272,
   "id": "ece7f83b",
   "metadata": {},
   "outputs": [],
   "source": [
    "class SplitData:\n",
    "    def __init__(self, csv, k_fold, index_start_zero):\n",
    "        \n",
    "        if (index_start_zero):\n",
    "            data = pd.read_csv(csv, index_col=0)\n",
    "            data = data.sample(frac = 1)\n",
    "        else:\n",
    "            data = pd.read_csv(csv)\n",
    "            data = data.sample(frac = 1)\n",
    "        \n",
    "        data.fillna('null', inplace=True)\n",
    "\n",
    "        quantity = int((len(data) - len(data) % k_fold) / k_fold)\n",
    "        self.fold_list = [data.iloc[quantity * i:quantity * (i + 1), :] for i in range(k_fold - 1)]\n",
    "        self.fold_list.append(data.iloc[(k_fold - 1) * quantity:, :])\n",
    "\n",
    "    def __call__(self):\n",
    "        test_data = self.fold_list.pop()\n",
    "        train_data = pd.concat(self.fold_list, ignore_index=True)\n",
    "        self.fold_list.insert(0, test_data)\n",
    "        return train_data, test_data\n",
    "\n",
    "class EDPDataset(torch.utils.data.Dataset):\n",
    "    def __init__(self, data_path, data_df):\n",
    "        super(EDPDataset, self).__init__()\n",
    "        self.data_path = data_path\n",
    "        self.data = data_df[['text', 'pics', 'labels', 'category', 'taux_obfuscation', \n",
    "                             'url', 'type', 'length', 'special_char_proportion', 'average_word_length',  'url_count', \n",
    "                             'repeated_chars', 'digit_proportion', 'vowel_consonant_ratio']]\n",
    "\n",
    "\n",
    "    def __getitem__(self, item):\n",
    "        \n",
    "        text = self.data.iloc[item, 0]\n",
    "        pic_filename = self.data.iloc[item, 1]\n",
    "        label = self.data.iloc[item, 2]\n",
    "        category = self.data.iloc[item, 3]\n",
    "        taux_obfuscation = self.data.iloc[item, 4]\n",
    "        url = self.data.iloc[item, 5]\n",
    "        url_type = self.data.iloc[item, 6]\n",
    "        length = self.data.iloc[item, 7]\n",
    "        special_char_proportion = self.data.iloc[item, 8]\n",
    "        average_word_length = self.data.iloc[item, 9]\n",
    "        url_count = self.data.iloc[item, 10]\n",
    "        repeated_chars = self.data.iloc[item, 11]\n",
    "        digit_proportion = self.data.iloc[item, 12]\n",
    "        vowel_consonant_ratio = self.data.iloc[item, 13]\n",
    "        \n",
    "\n",
    "        pic_path = os.path.join(self.data_path, pic_filename).replace('\\\\', '/')\n",
    "        pic = Image.open(pic_path)\n",
    "\n",
    "        return (text, pic, label, category, taux_obfuscation, url, url_type,\n",
    "                length, special_char_proportion, average_word_length,  url_count, repeated_chars, digit_proportion,vowel_consonant_ratio)\n",
    "\n",
    "    def __len__(self):\n",
    "        return len(self.data) \n",
    "\n",
    "\n",
    "class EDPCollator:\n",
    "    def __init__(self, tokenizer=None, feature_extractor=None):\n",
    "        #self.tokenizer = tokenizer if tokenizer is not None else BertTokenizer.from_pretrained('bert-base-cased')\n",
    "\n",
    "        self.tokenizer = tokenizer if tokenizer is not None else BertTokenizerFast.from_pretrained('bert-base-multilingual-cased')        \n",
    "        self.feature_extractor = feature_extractor if feature_extractor is not None else BeitFeatureExtractor.from_pretrained('microsoft/dit-base')\n",
    "        self.label_encoder_text_category = LabelEncoder()\n",
    "        self.label_encoder_url_type = LabelEncoder()\n",
    "\n",
    "    def text_process(self, text_list):\n",
    "        text_tensor = self.tokenizer(text_list, return_tensors='pt', max_length=256, truncation=True, padding='max_length')\n",
    "        return text_tensor\n",
    "    \n",
    "    def picture_process(self, picture_list):\n",
    "        pixel_values = self.feature_extractor(picture_list, return_tensors='pt')\n",
    "        return pixel_values\n",
    "    \n",
    "    def __call__(self, data):\n",
    "\n",
    "        text_list, picture_list, label_list, text_category_list, taux_obf_list, url_list, type_url_list, length_list, special_char_proportion_list, average_word_length_list, url_count_list, repeated_chars_list, digit_proportion_list, vowel_consonant_ratio_list = zip(*data)\n",
    "      \n",
    "        #text_list_with_image = [text + \" \" + image_text for text, image_text in zip(text_list, text_image_list)]\n",
    "        #text_tensor = self.text_process(list(text_list_with_image))\n",
    "        text_tensor = self.text_process(list(text_list))\n",
    "\n",
    "\n",
    "        pixel_values = self.picture_process(picture_list)\n",
    "        url_tensor = self.text_process(list(url_list))\n",
    "        \n",
    "        url_input_ids = url_tensor['input_ids']\n",
    "        url_token_type_ids = url_tensor['token_type_ids']\n",
    "        url_attention_mask = url_tensor['attention_mask']\n",
    "        \n",
    "        Obfuscation = torch.FloatTensor(taux_obf_list)\n",
    "        labels = torch.LongTensor(label_list)\n",
    "      \n",
    "        length = torch.FloatTensor(length_list)\n",
    "        special_char_proportion = torch.FloatTensor(special_char_proportion_list)\n",
    "        average_word_length = torch.FloatTensor(average_word_length_list)\n",
    "        url_count = torch.FloatTensor(url_count_list)\n",
    "        repeated_chars = torch.FloatTensor(repeated_chars_list)\n",
    "        digit_proportion = torch.FloatTensor(digit_proportion_list)\n",
    "        vowel_consonant_ratio = torch.FloatTensor(vowel_consonant_ratio_list)\n",
    " \n",
    "        inputs = dict()\n",
    "        inputs.update(text_tensor)\n",
    "        inputs.update(pixel_values)\n",
    "        inputs.update({'url_input_ids': url_input_ids,\n",
    "                'url_token_type_ids': url_token_type_ids,\n",
    "                'url_attention_mask': url_attention_mask,\n",
    "                })\n",
    "\n",
    "        inputs['Obfuscation'] = Obfuscation\n",
    "        inputs['labels'] = labels\n",
    "        \n",
    "        inputs['length'] = length\n",
    "        inputs['special_char_proportion'] = special_char_proportion\n",
    "        inputs['average_word_length'] = average_word_length\n",
    "        inputs['url_count'] = url_count\n",
    "        inputs['repeated_chars'] = repeated_chars\n",
    "        inputs['digit_proportion'] = digit_proportion\n",
    "        inputs['vowel_consonant_ratio'] = vowel_consonant_ratio\n",
    "\n",
    "        return inputs\n",
    "    \n",
    "\n",
    "\n",
    "class EDPTextCollator(EDPCollator):\n",
    "    def __call__(self, data):\n",
    "        text_list, picture_list, label_list, text_image_list, text_category_list, taux_obf_list, url_list, type_url_list, length_list, digit_proportion_list, unique_word_count_list, special_char_proportion_list, sentiment_polarity_list, lexical_diversity_list, average_word_length_list = zip(*data)\n",
    "\n",
    "        #text_list_with_image = [text + \" \" + image_text for text, image_text in zip(text_list, text_image_list)]\n",
    "        #text_tensor = self.text_process(list(text_list_with_image))\n",
    "        text_tensor = self.text_process(list(text_list))\n",
    "\n",
    "        labels = torch.LongTensor(label_list)\n",
    "        \n",
    "        # Création des trois tenseurs pour les entrées\n",
    "        text_input_ids = text_tensor['input_ids']\n",
    "        text_token_type_ids = text_tensor['token_type_ids']\n",
    "        text_attention_mask = text_tensor['attention_mask']\n",
    "        \n",
    "        # Création du dictionnaire d'entrées\n",
    "        inputs = dict()\n",
    "        \n",
    "        # Mise à jour des entrées avec les trois tenseurs pour l'URL \n",
    "        inputs.update({'input_ids': text_input_ids,\n",
    "                       'token_type_ids': text_token_type_ids,\n",
    "                       'attention_mask': text_attention_mask,\n",
    "                       })\n",
    "        inputs['labels']= labels\n",
    "        \n",
    "        inputs.pop('url_input_ids', None)\n",
    "        inputs.pop('url_token_type_ids', None)\n",
    "        inputs.pop('url_attention_mask', None)\n",
    "        inputs.pop('pixel_values', None)\n",
    "        inputs.pop('Obfuscation', None)\n",
    "        inputs.pop('text_category', None)\n",
    "        inputs.pop('type_url', None)\n",
    "        return inputs\n",
    "\n",
    "\n",
    "class EDPPictureCollator(EDPCollator):\n",
    "    def __call__(self, data):\n",
    "        text_list, picture_list, label_list, text_category_list, taux_obf_list, url_list, type_url_list, length_list, digit_proportion_list, unique_word_count_list, special_char_proportion_list, sentiment_polarity_list, lexical_diversity_list, average_word_length_list = zip(*data)\n",
    "        pixel_values = self.feature_extractor(picture_list, return_tensors='pt')\n",
    "        labels = torch.LongTensor(label_list)\n",
    "        inputs = dict()\n",
    "        inputs.update(pixel_values)\n",
    "        inputs['labels'] = labels\n",
    "        return inputs\n",
    "\n",
    "\n",
    "class EDPCategoryCollator:\n",
    "    def __init__(self, tokenizer=None):\n",
    "        #self.tokenizer = tokenizer if tokenizer is not None else BertTokenizer.from_pretrained('bert-base-cased')     \n",
    "        self.tokenizer = tokenizer if tokenizer is not None else BertTokenizerFast.from_pretrained('bert-base-multilingual-cased')           \n",
    "        self.label_encoder_category = LabelEncoder()\n",
    "\n",
    "    def text_process(self, text_list):\n",
    "        text_tensor = self.tokenizer(text_list, return_tensors='pt', max_length=256, truncation=True, padding='max_length')\n",
    "        \n",
    "        return text_tensor\n",
    "    \n",
    "    def __call__(self, data):\n",
    "        text_list, labels_list = zip(*data)\n",
    "        text_tensor = self.text_process(list(text_list))\n",
    "        \n",
    "        input_ids = text_tensor['input_ids']\n",
    "        token_type_ids = text_tensor['token_type_ids']\n",
    "        attention_mask = text_tensor['attention_mask']\n",
    "        \n",
    "        category_encoded = self.label_encoder_category.fit_transform(labels_list)  \n",
    "        labels = torch.LongTensor(category_encoded)  \n",
    "        inputs = dict()       \n",
    "        inputs.update({'input_ids': input_ids,\n",
    "                'token_type_ids': token_type_ids,\n",
    "                'attention_mask': attention_mask,\n",
    "                })\n",
    "        inputs['labels'] = labels       \n",
    "        return inputs\n",
    "\n",
    "class EDPUrlCollator:\n",
    "    def __init__(self, tokenizer=None):\n",
    "        self.tokenizer = tokenizer if tokenizer is not None else BertTokenizerFast.from_pretrained('bert-base-multilingual-cased')   \n",
    "        self.label_encoder_url_type = LabelEncoder()\n",
    "\n",
    "    def text_process(self, url_list):\n",
    "        url_tensor = self.tokenizer(url_list, return_tensors='pt', max_length=256, truncation=True, padding='max_length')\n",
    "        return url_tensor\n",
    "    \n",
    "    def __call__(self, data):\n",
    "        url_list, labels_list = zip(*data)\n",
    "        url_tensor = self.text_process(list(url_list))\n",
    "        \n",
    "        url_input_ids = url_tensor['input_ids']\n",
    "        url_token_type_ids = url_tensor['token_type_ids']\n",
    "        url_attention_mask = url_tensor['attention_mask']\n",
    "        \n",
    "        url_type_encoded = self.label_encoder_url_type.fit_transform(labels_list)  \n",
    "        labels = torch.LongTensor(url_type_encoded)  \n",
    "        inputs = dict()       \n",
    "        inputs.update({'input_ids': url_input_ids,\n",
    "                'token_type_ids': url_token_type_ids,\n",
    "                'attention_mask': url_attention_mask,\n",
    "                })\n",
    "        inputs['labels'] = labels       \n",
    "        return inputs\n",
    "    \n",
    "class Extractor:\n",
    "    def __init__(self, feature_extractor):\n",
    "        self.feature_extractor = feature_extractor\n",
    "\n",
    "    def __call__(self, data):\n",
    "        return torch.squeeze(self.feature_extractor(data, return_tensors=\"pt\").pixel_values)\n",
    "\n",
    "\n",
    "class Email_category_dataset(torch.utils.data.Dataset):\n",
    "    def __init__(self, data_df):\n",
    "        \n",
    "        data_df = data_df[['text', 'category']] \n",
    "        self.cat_df =  data_df.rename(columns={\"category\": \"labels\"})\n",
    " \n",
    "    def __getitem__(self, item):\n",
    "        \n",
    "        text = self.cat_df.iloc[item, 0]\n",
    "        label = self.cat_df.iloc[item, 1]\n",
    "                \n",
    "        return text, label \n",
    "\n",
    "    def __len__(self):\n",
    "        return len(self.cat_df)\n",
    "\n",
    "\n",
    "class Email_image_dataset(ImageFolder):\n",
    "    def __getitem__(self, item):\n",
    "        data, label = super().__getitem__(index=item)\n",
    "        \n",
    "        return {\"pics\": data, \"labels\": torch.LongTensor([label])}\n",
    "\n",
    "\n",
    "class Email_url_dataset(torch.utils.data.Dataset):\n",
    "    def __init__(self, data_df):\n",
    "        \n",
    "        data_df = data_df[['url', 'type']] \n",
    "        self.url_df =  data_df.rename(columns={\"type\": \"labels\"})\n",
    " \n",
    "    def __getitem__(self, item):\n",
    "        \n",
    "        url = self.url_df.iloc[item, 0]\n",
    "        label = self.url_df.iloc[item, 1]\n",
    "                \n",
    "        return url, label \n",
    "\n",
    "    def __len__(self):\n",
    "        return len(self.url_df) \n",
    "    \n",
    "class Email_text_dataset(torch.utils.data.Dataset):\n",
    "    def __init__(self, data_df):\n",
    "        self.data = data_df[['text', 'labels']] \n",
    "     \n",
    "    def __getitem__(self, item):\n",
    "        \n",
    "        text = self.data.iloc[item, 0]\n",
    "        label = self.data.iloc[item, 1]                \n",
    "        return text, label \n",
    "\n",
    "    def __len__(self):\n",
    "        return len(self.data) \n",
    "    \n",
    "class EDPTextCollator:\n",
    "    def __init__(self, tokenizer=None):\n",
    "        self.tokenizer = tokenizer if tokenizer is not None else BertTokenizer.from_pretrained('bert-base-cased')      \n",
    "\n",
    "    def text_process(self, text_list):\n",
    "        text_tensor = self.tokenizer(text_list, return_tensors='pt', max_length=256, truncation=True, padding='max_length')\n",
    "        return text_tensor\n",
    "    \n",
    "    def __call__(self, data):\n",
    "        text_list, labels_list = zip(*data)\n",
    "        text_tensor = self.text_process(list(text_list))\n",
    "        \n",
    "        input_ids = text_tensor['input_ids']\n",
    "        token_type_ids = text_tensor['token_type_ids']\n",
    "        attention_mask = text_tensor['attention_mask']\n",
    "       \n",
    "        labels = torch.LongTensor(labels_list)  \n",
    "        inputs = dict()       \n",
    "        inputs.update({'input_ids': input_ids,\n",
    "                'token_type_ids': token_type_ids,\n",
    "                'attention_mask': attention_mask,\n",
    "                })\n",
    "        inputs['labels'] = labels       \n",
    "        return inputs\n",
    "    \n",
    "class EDPImageDataset(torch.utils.data.Dataset):\n",
    "    def __init__(self, data_path, data_df):\n",
    "        self.data_path = data_path\n",
    "        self.data = data_df[['pics', 'labels']]\n",
    "\n",
    "    def __getitem__(self, item):\n",
    "        \n",
    "        pic_filename = self.data.iloc[item, 0]\n",
    "        label = self.data.iloc[item, 1]       \n",
    "        print(pic_path)\n",
    "        \n",
    "        pic_path = os.path.join(self.data_path, pic_filename).replace('\\\\', '/')\n",
    "        \n",
    "        pic = Image.open(pic_path)\n",
    "\n",
    "        return (pic, label)\n",
    "\n",
    "    def __len__(self):\n",
    "        return len(self.data) "
   ]
  },
  {
   "cell_type": "code",
   "execution_count": 273,
   "id": "8f88bcbf",
   "metadata": {},
   "outputs": [],
   "source": [
    "DEVICE = torch.device(\"cuda\") if torch.cuda.is_available() else torch.device(\"cpu\")\n",
    "\n",
    "fold = 3\n",
    "\n",
    "dataset_path = 'C:/codes_data/MMTD/V2/HSMDData15.csv'\n",
    "main_path_output = 'C:/codes_data/MMTD/V2/output/'\n",
    "image_folder = 'C:/codes_data/MMTD/V2/pics4'\n",
    "\n",
    "index_start_zero = False\n",
    "split_data = SplitData(dataset_path, fold, index_start_zero)\n",
    "train_df, test_df = split_data()   \n",
    "NUM_EPOCHS = 25\n",
    "TRAIN_BATCH_SIZE = 32\n",
    "VALID_BATCH_SIZE = 32\n",
    "NUM_EXECUTIONS = 1"
   ]
  },
  {
   "cell_type": "code",
   "execution_count": 274,
   "id": "7fa88655",
   "metadata": {},
   "outputs": [],
   "source": [
    "class HMSD(nn.Module):\n",
    "    def __init__(self, bert_cfg=BertConfig(), beit_cfg=BeitConfig(), bert_pretrain_weight=None, beit_pretrain_weight=None, url_pretrain_weight=None, text_category_pretrain_weight=None):\n",
    "        super(HMSD, self).__init__()\n",
    "\n",
    "        # Initialize encoders\n",
    "\n",
    "        self.text_encoder = BertForSequenceClassification.from_pretrained(bert_pretrain_weight) if bert_pretrain_weight is not None else BertForSequenceClassification(bert_cfg)\n",
    "        self.image_encoder = BeitForImageClassification.from_pretrained(beit_pretrain_weight) if beit_pretrain_weight is not None else BeitForImageClassification(beit_cfg)\n",
    "        self.text_category_encoder = BertForSequenceClassification.from_pretrained(bert_pretrain_weight) if bert_pretrain_weight is not None else BertForSequenceClassification(bert_cfg)\n",
    "        self.url_encoder = BertForSequenceClassification.from_pretrained(url_pretrain_weight) if url_pretrain_weight is not None else BertForSequenceClassification(bert_cfg)\n",
    "\n",
    "\n",
    "        # Ensure encoders output hidden states\n",
    "        self.text_encoder.config.output_hidden_states = True\n",
    "        self.image_encoder.config.output_hidden_states = True\n",
    "        self.text_category_encoder.config.output_hidden_states = True\n",
    "        self.url_encoder.config.output_hidden_states = True\n",
    "\n",
    "        self.multi_modality_transformer_layer = torch.nn.TransformerEncoderLayer(d_model=768, nhead=8, batch_first=True)\n",
    "        \n",
    "        txt_img_dim = 8\n",
    "        self.pooler = torch.nn.Sequential(\n",
    "            torch.nn.Linear(768, txt_img_dim),\n",
    "            torch.nn.Tanh()\n",
    "        )\n",
    "        self.dropout = torch.nn.Dropout(p=0.2)   \n",
    "        self.classifier1 = nn.Linear(txt_img_dim+8, 2)                \n",
    "        self.classifier2 = nn.Linear(txt_img_dim, 2)\n",
    "\n",
    "        self.num_labels = 2\n",
    "        self.combine_everything = False\n",
    "        self.device = torch.device(\"cuda\") if torch.cuda.is_available() else torch.device(\"cpu\")\n",
    "\n",
    "    def forward(self, input_ids=None, token_type_ids=None, attention_mask=None, pixel_values=None, url_input_ids=None, url_token_type_ids=None,\n",
    "                 url_attention_mask=None, Obfuscation=None, labels=None, length=None, special_char_proportion=None, average_word_length=None, \n",
    "                 url_count=None, repeated_chars=None, digit_proportion=None, vowel_consonant_ratio=None):    \n",
    "\n",
    "        \n",
    "            # Encodeurs pour le texte\n",
    "        text_outputs = self.text_encoder(input_ids=input_ids, token_type_ids=token_type_ids, attention_mask=attention_mask)\n",
    "        image_outputs = self.image_encoder(pixel_values=pixel_values)\n",
    "        text_category_outputs = self.text_category_encoder(input_ids=input_ids, token_type_ids=token_type_ids, attention_mask=attention_mask)\n",
    "        url_outputs = self.url_encoder(input_ids=url_input_ids, token_type_ids=url_token_type_ids, attention_mask=url_attention_mask)\n",
    "\n",
    "        text_last_hidden_state = text_outputs.hidden_states[12]\n",
    "        image_last_hidden_state = image_outputs.hidden_states[12]\n",
    "        text_category_last_hidden_state = text_category_outputs.hidden_states[12]\n",
    "        url_last_hidden_state = url_outputs.hidden_states[12]\n",
    "\n",
    "        text_last_hidden_state += torch.zeros(text_last_hidden_state.size()).to(self.device)\n",
    "        image_last_hidden_state += torch.ones(image_last_hidden_state.size()).to(self.device)\n",
    "        text_category_last_hidden_state += torch.zeros(text_category_last_hidden_state.size()).to(self.device)\n",
    "        url_last_hidden_state += torch.zeros(url_last_hidden_state.size()).to(self.device)        \n",
    "            \n",
    "        fuse_hidden_state = torch.cat([text_last_hidden_state, image_last_hidden_state], dim=1)      \n",
    "\n",
    "        outputs = self.multi_modality_transformer_layer(fuse_hidden_state)        \n",
    "        outputs = self.pooler(outputs[:, 0, :]) \n",
    "        \n",
    "        other_features = torch.cat([                     \n",
    "            Obfuscation.unsqueeze(1),\n",
    "            length.unsqueeze(1),\n",
    "            special_char_proportion.unsqueeze(1),\n",
    "            average_word_length.unsqueeze(1),  \n",
    "            url_count.unsqueeze(1),  \n",
    "            repeated_chars.unsqueeze(1),  \n",
    "            digit_proportion.unsqueeze(1),\n",
    "            vowel_consonant_ratio.unsqueeze(1)], dim=-1)  \n",
    "\n",
    "        if self.combine_everything:\n",
    "\n",
    "            outputs = torch.cat([outputs,other_features], dim=-1)    \n",
    "            outputs = self.dropout(outputs)\n",
    "            #print(outputs.shape)\n",
    "            logits = self.classifier1(outputs) \n",
    "\n",
    "        else:\n",
    "            logits = self.classifier2(outputs)\n",
    "\n",
    "        loss = None\n",
    "        \n",
    "        if labels is not None:\n",
    "            loss_fct = CrossEntropyLoss()\n",
    "            loss = loss_fct(logits.view(-1, self.num_labels), labels.view(-1))\n",
    "        return SequenceClassifierOutput(\n",
    "            loss=loss,\n",
    "            logits=logits,\n",
    "            hidden_states=None,\n",
    "            attentions=None,\n",
    "        )"
   ]
  },
  {
   "cell_type": "code",
   "execution_count": 276,
   "id": "5aee81e9",
   "metadata": {},
   "outputs": [
    {
     "name": "stderr",
     "output_type": "stream",
     "text": [
      "C:\\Users\\allimo01\\AppData\\Local\\Packages\\PythonSoftwareFoundation.Python.3.11_qbz5n2kfra8p0\\LocalCache\\local-packages\\Python311\\site-packages\\transformers\\models\\beit\\feature_extraction_beit.py:28: FutureWarning: The class BeitFeatureExtractor is deprecated and will be removed in version 5 of Transformers. Please use BeitImageProcessor instead.\n",
      "  warnings.warn(\n",
      "C:\\Users\\allimo01\\AppData\\Local\\Packages\\PythonSoftwareFoundation.Python.3.11_qbz5n2kfra8p0\\LocalCache\\local-packages\\Python311\\site-packages\\transformers\\models\\beit\\image_processing_beit.py:110: FutureWarning: The `reduce_labels` parameter is deprecated and will be removed in a future version. Please use `do_reduce_labels` instead.\n",
      "  warnings.warn(\n"
     ]
    },
    {
     "data": {
      "application/vnd.jupyter.widget-view+json": {
       "model_id": "6c6c8162e65a4540a02219edc231660f",
       "version_major": 2,
       "version_minor": 0
      },
      "text/plain": [
       "  0%|          | 0/625 [00:00<?, ?it/s]"
      ]
     },
     "metadata": {},
     "output_type": "display_data"
    },
    {
     "name": "stdout",
     "output_type": "stream",
     "text": [
      "{'loss': 0.5627, 'learning_rate': 0.004, 'epoch': 1.0}\n"
     ]
    },
    {
     "data": {
      "application/vnd.jupyter.widget-view+json": {
       "model_id": "680db3f98ef14bfaa3860f7bf403df50",
       "version_major": 2,
       "version_minor": 0
      },
      "text/plain": [
       "  0%|          | 0/63 [00:00<?, ?it/s]"
      ]
     },
     "metadata": {},
     "output_type": "display_data"
    },
    {
     "name": "stdout",
     "output_type": "stream",
     "text": [
      "{'eval_loss': 0.45618775486946106, 'eval_acc': 0.8437185929648241, 'eval_runtime': 54.4963, 'eval_samples_per_second': 36.516, 'eval_steps_per_second': 1.156, 'epoch': 1.0}\n",
      "{'loss': 0.4613, 'learning_rate': 0.003, 'epoch': 2.0}\n"
     ]
    },
    {
     "data": {
      "application/vnd.jupyter.widget-view+json": {
       "model_id": "326d6e1b590a437f9f1e2e11b7024cc4",
       "version_major": 2,
       "version_minor": 0
      },
      "text/plain": [
       "  0%|          | 0/63 [00:00<?, ?it/s]"
      ]
     },
     "metadata": {},
     "output_type": "display_data"
    },
    {
     "name": "stdout",
     "output_type": "stream",
     "text": [
      "{'eval_loss': 0.4339796006679535, 'eval_acc': 0.8447236180904523, 'eval_runtime': 63.3748, 'eval_samples_per_second': 31.401, 'eval_steps_per_second': 0.994, 'epoch': 2.0}\n",
      "{'loss': 0.4966, 'learning_rate': 0.002, 'epoch': 3.0}\n"
     ]
    },
    {
     "data": {
      "application/vnd.jupyter.widget-view+json": {
       "model_id": "e931d484a82f40f98a3ad57f6bd46bd5",
       "version_major": 2,
       "version_minor": 0
      },
      "text/plain": [
       "  0%|          | 0/63 [00:00<?, ?it/s]"
      ]
     },
     "metadata": {},
     "output_type": "display_data"
    },
    {
     "name": "stdout",
     "output_type": "stream",
     "text": [
      "{'eval_loss': 0.4235094487667084, 'eval_acc': 0.8517587939698492, 'eval_runtime': 47.3383, 'eval_samples_per_second': 42.038, 'eval_steps_per_second': 1.331, 'epoch': 3.0}\n",
      "{'loss': 0.4532, 'learning_rate': 0.001, 'epoch': 4.0}\n"
     ]
    },
    {
     "data": {
      "application/vnd.jupyter.widget-view+json": {
       "model_id": "992b25e18ef64eefb4a6912ec36c063e",
       "version_major": 2,
       "version_minor": 0
      },
      "text/plain": [
       "  0%|          | 0/63 [00:00<?, ?it/s]"
      ]
     },
     "metadata": {},
     "output_type": "display_data"
    },
    {
     "name": "stdout",
     "output_type": "stream",
     "text": [
      "{'eval_loss': 0.4250178337097168, 'eval_acc': 0.8502512562814071, 'eval_runtime': 47.4429, 'eval_samples_per_second': 41.945, 'eval_steps_per_second': 1.328, 'epoch': 4.0}\n",
      "{'loss': 0.4523, 'learning_rate': 0.0, 'epoch': 5.0}\n"
     ]
    },
    {
     "data": {
      "application/vnd.jupyter.widget-view+json": {
       "model_id": "f5e9bbddf6e042bcb4f353661902ebb0",
       "version_major": 2,
       "version_minor": 0
      },
      "text/plain": [
       "  0%|          | 0/63 [00:00<?, ?it/s]"
      ]
     },
     "metadata": {},
     "output_type": "display_data"
    },
    {
     "name": "stdout",
     "output_type": "stream",
     "text": [
      "{'eval_loss': 0.422390878200531, 'eval_acc': 0.8507537688442212, 'eval_runtime': 47.3892, 'eval_samples_per_second': 41.993, 'eval_steps_per_second': 1.329, 'epoch': 5.0}\n",
      "{'train_runtime': 817.7066, 'train_samples_per_second': 24.336, 'train_steps_per_second': 0.764, 'train_loss': 0.48522794799804686, 'epoch': 5.0}\n"
     ]
    },
    {
     "name": "stderr",
     "output_type": "stream",
     "text": [
      "C:\\Users\\allimo01\\AppData\\Local\\Packages\\PythonSoftwareFoundation.Python.3.11_qbz5n2kfra8p0\\LocalCache\\local-packages\\Python311\\site-packages\\transformers\\models\\beit\\feature_extraction_beit.py:28: FutureWarning: The class BeitFeatureExtractor is deprecated and will be removed in version 5 of Transformers. Please use BeitImageProcessor instead.\n",
      "  warnings.warn(\n",
      "C:\\Users\\allimo01\\AppData\\Local\\Packages\\PythonSoftwareFoundation.Python.3.11_qbz5n2kfra8p0\\LocalCache\\local-packages\\Python311\\site-packages\\transformers\\models\\beit\\image_processing_beit.py:110: FutureWarning: The `reduce_labels` parameter is deprecated and will be removed in a future version. Please use `do_reduce_labels` instead.\n",
      "  warnings.warn(\n"
     ]
    },
    {
     "data": {
      "application/vnd.jupyter.widget-view+json": {
       "model_id": "279990e3665546ee8a174360b15c71db",
       "version_major": 2,
       "version_minor": 0
      },
      "text/plain": [
       "  0%|          | 0/2500 [00:00<?, ?it/s]"
      ]
     },
     "metadata": {},
     "output_type": "display_data"
    },
    {
     "name": "stdout",
     "output_type": "stream",
     "text": [
      "{'loss': 0.4925, 'learning_rate': 0.00475, 'epoch': 1.0}\n"
     ]
    },
    {
     "data": {
      "application/vnd.jupyter.widget-view+json": {
       "model_id": "19eb25249aa04a1db6881f854a2a43cc",
       "version_major": 2,
       "version_minor": 0
      },
      "text/plain": [
       "  0%|          | 0/63 [00:00<?, ?it/s]"
      ]
     },
     "metadata": {},
     "output_type": "display_data"
    },
    {
     "name": "stderr",
     "output_type": "stream",
     "text": [
      "Checkpoint destination directory C:/codes_data/MMTD/V2/output/hsmd\\checkpoints\\fold_1\\checkpoint-125 already exists and is non-empty.Saving will proceed but saved results may be invalid.\n"
     ]
    },
    {
     "name": "stdout",
     "output_type": "stream",
     "text": [
      "{'eval_loss': 0.4081055223941803, 'eval_acc': 0.8110552763819096, 'eval_runtime': 47.5818, 'eval_samples_per_second': 41.823, 'eval_steps_per_second': 1.324, 'epoch': 1.0}\n",
      "{'loss': 0.4416, 'learning_rate': 0.0045000000000000005, 'epoch': 2.0}\n"
     ]
    },
    {
     "data": {
      "application/vnd.jupyter.widget-view+json": {
       "model_id": "dce06c6dd8244009bf5fa742f486561b",
       "version_major": 2,
       "version_minor": 0
      },
      "text/plain": [
       "  0%|          | 0/63 [00:00<?, ?it/s]"
      ]
     },
     "metadata": {},
     "output_type": "display_data"
    },
    {
     "name": "stderr",
     "output_type": "stream",
     "text": [
      "Checkpoint destination directory C:/codes_data/MMTD/V2/output/hsmd\\checkpoints\\fold_1\\checkpoint-250 already exists and is non-empty.Saving will proceed but saved results may be invalid.\n"
     ]
    },
    {
     "name": "stdout",
     "output_type": "stream",
     "text": [
      "{'eval_loss': 0.326255738735199, 'eval_acc': 0.8582914572864322, 'eval_runtime': 47.4829, 'eval_samples_per_second': 41.91, 'eval_steps_per_second': 1.327, 'epoch': 2.0}\n",
      "{'loss': 0.3666, 'learning_rate': 0.00425, 'epoch': 3.0}\n"
     ]
    },
    {
     "data": {
      "application/vnd.jupyter.widget-view+json": {
       "model_id": "d3b94f6e042e4bfa9380f75b5fd40f7a",
       "version_major": 2,
       "version_minor": 0
      },
      "text/plain": [
       "  0%|          | 0/63 [00:00<?, ?it/s]"
      ]
     },
     "metadata": {},
     "output_type": "display_data"
    },
    {
     "name": "stderr",
     "output_type": "stream",
     "text": [
      "Checkpoint destination directory C:/codes_data/MMTD/V2/output/hsmd\\checkpoints\\fold_1\\checkpoint-375 already exists and is non-empty.Saving will proceed but saved results may be invalid.\n"
     ]
    },
    {
     "name": "stdout",
     "output_type": "stream",
     "text": [
      "{'eval_loss': 0.2877054810523987, 'eval_acc': 0.8577889447236181, 'eval_runtime': 47.9134, 'eval_samples_per_second': 41.533, 'eval_steps_per_second': 1.315, 'epoch': 3.0}\n",
      "{'loss': 0.3343, 'learning_rate': 0.004, 'epoch': 4.0}\n"
     ]
    },
    {
     "data": {
      "application/vnd.jupyter.widget-view+json": {
       "model_id": "639d951c625546829bbfcbbfa31f2f76",
       "version_major": 2,
       "version_minor": 0
      },
      "text/plain": [
       "  0%|          | 0/63 [00:00<?, ?it/s]"
      ]
     },
     "metadata": {},
     "output_type": "display_data"
    },
    {
     "name": "stderr",
     "output_type": "stream",
     "text": [
      "Checkpoint destination directory C:/codes_data/MMTD/V2/output/hsmd\\checkpoints\\fold_1\\checkpoint-500 already exists and is non-empty.Saving will proceed but saved results may be invalid.\n"
     ]
    },
    {
     "name": "stdout",
     "output_type": "stream",
     "text": [
      "{'eval_loss': 0.26339951157569885, 'eval_acc': 0.8778894472361809, 'eval_runtime': 48.1271, 'eval_samples_per_second': 41.349, 'eval_steps_per_second': 1.309, 'epoch': 4.0}\n",
      "{'loss': 0.3203, 'learning_rate': 0.00375, 'epoch': 5.0}\n"
     ]
    },
    {
     "data": {
      "application/vnd.jupyter.widget-view+json": {
       "model_id": "0c95f33b3d4043269493be3796f779fb",
       "version_major": 2,
       "version_minor": 0
      },
      "text/plain": [
       "  0%|          | 0/63 [00:00<?, ?it/s]"
      ]
     },
     "metadata": {},
     "output_type": "display_data"
    },
    {
     "name": "stderr",
     "output_type": "stream",
     "text": [
      "Checkpoint destination directory C:/codes_data/MMTD/V2/output/hsmd\\checkpoints\\fold_1\\checkpoint-625 already exists and is non-empty.Saving will proceed but saved results may be invalid.\n"
     ]
    },
    {
     "name": "stdout",
     "output_type": "stream",
     "text": [
      "{'eval_loss': 0.24340736865997314, 'eval_acc': 0.8804020100502512, 'eval_runtime': 63.0979, 'eval_samples_per_second': 31.538, 'eval_steps_per_second': 0.998, 'epoch': 5.0}\n",
      "{'loss': 0.2994, 'learning_rate': 0.0034999999999999996, 'epoch': 6.0}\n"
     ]
    },
    {
     "data": {
      "application/vnd.jupyter.widget-view+json": {
       "model_id": "2b22c67a33c649d2922d6dce477b4f86",
       "version_major": 2,
       "version_minor": 0
      },
      "text/plain": [
       "  0%|          | 0/63 [00:00<?, ?it/s]"
      ]
     },
     "metadata": {},
     "output_type": "display_data"
    },
    {
     "name": "stdout",
     "output_type": "stream",
     "text": [
      "{'eval_loss': 0.22848600149154663, 'eval_acc': 0.9276381909547738, 'eval_runtime': 64.593, 'eval_samples_per_second': 30.808, 'eval_steps_per_second': 0.975, 'epoch': 6.0}\n",
      "{'loss': 0.2891, 'learning_rate': 0.0032500000000000003, 'epoch': 7.0}\n"
     ]
    },
    {
     "data": {
      "application/vnd.jupyter.widget-view+json": {
       "model_id": "645152e89c6d470b95e351bce438a115",
       "version_major": 2,
       "version_minor": 0
      },
      "text/plain": [
       "  0%|          | 0/63 [00:00<?, ?it/s]"
      ]
     },
     "metadata": {},
     "output_type": "display_data"
    },
    {
     "name": "stdout",
     "output_type": "stream",
     "text": [
      "{'eval_loss': 0.22173874080181122, 'eval_acc': 0.8949748743718593, 'eval_runtime': 64.3991, 'eval_samples_per_second': 30.901, 'eval_steps_per_second': 0.978, 'epoch': 7.0}\n",
      "{'loss': 0.28, 'learning_rate': 0.003, 'epoch': 8.0}\n"
     ]
    },
    {
     "data": {
      "application/vnd.jupyter.widget-view+json": {
       "model_id": "ebc0c329d3a74fda9a8298e81329a1bb",
       "version_major": 2,
       "version_minor": 0
      },
      "text/plain": [
       "  0%|          | 0/63 [00:00<?, ?it/s]"
      ]
     },
     "metadata": {},
     "output_type": "display_data"
    },
    {
     "name": "stdout",
     "output_type": "stream",
     "text": [
      "{'eval_loss': 0.22790125012397766, 'eval_acc': 0.8984924623115578, 'eval_runtime': 63.1559, 'eval_samples_per_second': 31.509, 'eval_steps_per_second': 0.998, 'epoch': 8.0}\n",
      "{'loss': 0.2819, 'learning_rate': 0.0027500000000000003, 'epoch': 9.0}\n"
     ]
    },
    {
     "data": {
      "application/vnd.jupyter.widget-view+json": {
       "model_id": "d71552fe19e24deaa0c79d7a74231679",
       "version_major": 2,
       "version_minor": 0
      },
      "text/plain": [
       "  0%|          | 0/63 [00:00<?, ?it/s]"
      ]
     },
     "metadata": {},
     "output_type": "display_data"
    },
    {
     "name": "stdout",
     "output_type": "stream",
     "text": [
      "{'eval_loss': 0.20086531341075897, 'eval_acc': 0.9457286432160804, 'eval_runtime': 63.4432, 'eval_samples_per_second': 31.367, 'eval_steps_per_second': 0.993, 'epoch': 9.0}\n",
      "{'loss': 0.2685, 'learning_rate': 0.0025, 'epoch': 10.0}\n"
     ]
    },
    {
     "data": {
      "application/vnd.jupyter.widget-view+json": {
       "model_id": "a50a2c0863f14e578f90a42f1303462a",
       "version_major": 2,
       "version_minor": 0
      },
      "text/plain": [
       "  0%|          | 0/63 [00:00<?, ?it/s]"
      ]
     },
     "metadata": {},
     "output_type": "display_data"
    },
    {
     "name": "stdout",
     "output_type": "stream",
     "text": [
      "{'eval_loss': 0.19697976112365723, 'eval_acc': 0.949748743718593, 'eval_runtime': 73.1615, 'eval_samples_per_second': 27.2, 'eval_steps_per_second': 0.861, 'epoch': 10.0}\n",
      "{'loss': 0.2662, 'learning_rate': 0.0022500000000000003, 'epoch': 11.0}\n"
     ]
    },
    {
     "data": {
      "application/vnd.jupyter.widget-view+json": {
       "model_id": "58a96b62773349d096d6d4c273228a6b",
       "version_major": 2,
       "version_minor": 0
      },
      "text/plain": [
       "  0%|          | 0/63 [00:00<?, ?it/s]"
      ]
     },
     "metadata": {},
     "output_type": "display_data"
    },
    {
     "name": "stdout",
     "output_type": "stream",
     "text": [
      "{'eval_loss': 0.18987831473350525, 'eval_acc': 0.9467336683417086, 'eval_runtime': 63.1831, 'eval_samples_per_second': 31.496, 'eval_steps_per_second': 0.997, 'epoch': 11.0}\n",
      "{'loss': 0.2679, 'learning_rate': 0.002, 'epoch': 12.0}\n"
     ]
    },
    {
     "data": {
      "application/vnd.jupyter.widget-view+json": {
       "model_id": "67dda5ffd7484e889a1a8fb9f4db64e2",
       "version_major": 2,
       "version_minor": 0
      },
      "text/plain": [
       "  0%|          | 0/63 [00:00<?, ?it/s]"
      ]
     },
     "metadata": {},
     "output_type": "display_data"
    },
    {
     "name": "stdout",
     "output_type": "stream",
     "text": [
      "{'eval_loss': 0.18883869051933289, 'eval_acc': 0.9663316582914573, 'eval_runtime': 63.2893, 'eval_samples_per_second': 31.443, 'eval_steps_per_second': 0.995, 'epoch': 12.0}\n",
      "{'loss': 0.2636, 'learning_rate': 0.0017499999999999998, 'epoch': 13.0}\n"
     ]
    },
    {
     "data": {
      "application/vnd.jupyter.widget-view+json": {
       "model_id": "71aef977e0ed4c7585f72bfc005b1f2d",
       "version_major": 2,
       "version_minor": 0
      },
      "text/plain": [
       "  0%|          | 0/63 [00:00<?, ?it/s]"
      ]
     },
     "metadata": {},
     "output_type": "display_data"
    },
    {
     "name": "stdout",
     "output_type": "stream",
     "text": [
      "{'eval_loss': 0.18357257544994354, 'eval_acc': 0.9658291457286432, 'eval_runtime': 62.8182, 'eval_samples_per_second': 31.679, 'eval_steps_per_second': 1.003, 'epoch': 13.0}\n",
      "{'loss': 0.2618, 'learning_rate': 0.0015, 'epoch': 14.0}\n"
     ]
    },
    {
     "data": {
      "application/vnd.jupyter.widget-view+json": {
       "model_id": "a867bee257c74e348a2a04d2f954fa44",
       "version_major": 2,
       "version_minor": 0
      },
      "text/plain": [
       "  0%|          | 0/63 [00:00<?, ?it/s]"
      ]
     },
     "metadata": {},
     "output_type": "display_data"
    },
    {
     "name": "stdout",
     "output_type": "stream",
     "text": [
      "{'eval_loss': 0.18063092231750488, 'eval_acc': 0.9703517587939698, 'eval_runtime': 64.208, 'eval_samples_per_second': 30.993, 'eval_steps_per_second': 0.981, 'epoch': 14.0}\n",
      "{'loss': 0.2622, 'learning_rate': 0.00125, 'epoch': 15.0}\n"
     ]
    },
    {
     "data": {
      "application/vnd.jupyter.widget-view+json": {
       "model_id": "d7d381ea82ef451aa58c5b36e6fc58ef",
       "version_major": 2,
       "version_minor": 0
      },
      "text/plain": [
       "  0%|          | 0/63 [00:00<?, ?it/s]"
      ]
     },
     "metadata": {},
     "output_type": "display_data"
    },
    {
     "name": "stdout",
     "output_type": "stream",
     "text": [
      "{'eval_loss': 0.17464469373226166, 'eval_acc': 0.9673366834170855, 'eval_runtime': 64.2654, 'eval_samples_per_second': 30.965, 'eval_steps_per_second': 0.98, 'epoch': 15.0}\n",
      "{'loss': 0.2408, 'learning_rate': 0.001, 'epoch': 16.0}\n"
     ]
    },
    {
     "data": {
      "application/vnd.jupyter.widget-view+json": {
       "model_id": "ef35fc05e3ff41579b32e13651351745",
       "version_major": 2,
       "version_minor": 0
      },
      "text/plain": [
       "  0%|          | 0/63 [00:00<?, ?it/s]"
      ]
     },
     "metadata": {},
     "output_type": "display_data"
    },
    {
     "name": "stdout",
     "output_type": "stream",
     "text": [
      "{'eval_loss': 0.17273931205272675, 'eval_acc': 0.9547738693467337, 'eval_runtime': 63.8496, 'eval_samples_per_second': 31.167, 'eval_steps_per_second': 0.987, 'epoch': 16.0}\n",
      "{'loss': 0.2358, 'learning_rate': 0.00075, 'epoch': 17.0}\n"
     ]
    },
    {
     "data": {
      "application/vnd.jupyter.widget-view+json": {
       "model_id": "1f3808c4ada04d7cb04a14e410ab08f8",
       "version_major": 2,
       "version_minor": 0
      },
      "text/plain": [
       "  0%|          | 0/63 [00:00<?, ?it/s]"
      ]
     },
     "metadata": {},
     "output_type": "display_data"
    },
    {
     "name": "stdout",
     "output_type": "stream",
     "text": [
      "{'eval_loss': 0.1677270233631134, 'eval_acc': 0.9587939698492463, 'eval_runtime': 54.6909, 'eval_samples_per_second': 36.386, 'eval_steps_per_second': 1.152, 'epoch': 17.0}\n",
      "{'loss': 0.2377, 'learning_rate': 0.0005, 'epoch': 18.0}\n"
     ]
    },
    {
     "data": {
      "application/vnd.jupyter.widget-view+json": {
       "model_id": "443556e0b2bd4b1eabff7d45e073cba1",
       "version_major": 2,
       "version_minor": 0
      },
      "text/plain": [
       "  0%|          | 0/63 [00:00<?, ?it/s]"
      ]
     },
     "metadata": {},
     "output_type": "display_data"
    },
    {
     "name": "stdout",
     "output_type": "stream",
     "text": [
      "{'eval_loss': 0.1682099550962448, 'eval_acc': 0.9517587939698492, 'eval_runtime': 48.2084, 'eval_samples_per_second': 41.279, 'eval_steps_per_second': 1.307, 'epoch': 18.0}\n",
      "{'loss': 0.2356, 'learning_rate': 0.00025, 'epoch': 19.0}\n"
     ]
    },
    {
     "data": {
      "application/vnd.jupyter.widget-view+json": {
       "model_id": "c79f0046842446aaa9f6475e007a0a42",
       "version_major": 2,
       "version_minor": 0
      },
      "text/plain": [
       "  0%|          | 0/63 [00:00<?, ?it/s]"
      ]
     },
     "metadata": {},
     "output_type": "display_data"
    },
    {
     "name": "stdout",
     "output_type": "stream",
     "text": [
      "{'eval_loss': 0.1656293123960495, 'eval_acc': 0.9562814070351758, 'eval_runtime': 53.8489, 'eval_samples_per_second': 36.955, 'eval_steps_per_second': 1.17, 'epoch': 19.0}\n",
      "{'loss': 0.2493, 'learning_rate': 0.0, 'epoch': 20.0}\n"
     ]
    },
    {
     "data": {
      "application/vnd.jupyter.widget-view+json": {
       "model_id": "ee76d490715942cd8e146f2b6f71c02b",
       "version_major": 2,
       "version_minor": 0
      },
      "text/plain": [
       "  0%|          | 0/63 [00:00<?, ?it/s]"
      ]
     },
     "metadata": {},
     "output_type": "display_data"
    },
    {
     "name": "stdout",
     "output_type": "stream",
     "text": [
      "{'eval_loss': 0.16603834927082062, 'eval_acc': 0.9562814070351758, 'eval_runtime': 52.5215, 'eval_samples_per_second': 37.889, 'eval_steps_per_second': 1.2, 'epoch': 20.0}\n",
      "{'train_runtime': 3752.2447, 'train_samples_per_second': 21.214, 'train_steps_per_second': 0.666, 'train_loss': 0.2947607765197754, 'epoch': 20.0}\n"
     ]
    },
    {
     "data": {
      "application/vnd.jupyter.widget-view+json": {
       "model_id": "88096a240076456ea814976cd20fdb5e",
       "version_major": 2,
       "version_minor": 0
      },
      "text/plain": [
       "  0%|          | 0/125 [00:00<?, ?it/s]"
      ]
     },
     "metadata": {},
     "output_type": "display_data"
    },
    {
     "data": {
      "application/vnd.jupyter.widget-view+json": {
       "model_id": "96025be7ea3045d1beb0cf56b6c3f285",
       "version_major": 2,
       "version_minor": 0
      },
      "text/plain": [
       "  0%|          | 0/63 [00:00<?, ?it/s]"
      ]
     },
     "metadata": {},
     "output_type": "display_data"
    },
    {
     "name": "stdout",
     "output_type": "stream",
     "text": [
      "Error: [Errno 2] No such file or directory: 'C:/codes_data/MMTD/V2/output/hsmd/results/fold_1_roc.jpg'\n"
     ]
    },
    {
     "data": {
      "application/vnd.jupyter.widget-view+json": {
       "model_id": "5ae9dc3b5832415aae29c8dd35753298",
       "version_major": 2,
       "version_minor": 0
      },
      "text/plain": [
       "VBox(children=(Label(value='0.001 MB of 0.001 MB uploaded\\r'), FloatProgress(value=1.0, max=1.0)))"
      ]
     },
     "metadata": {},
     "output_type": "display_data"
    },
    {
     "data": {
      "text/html": [
       "<style>\n",
       "    table.wandb td:nth-child(1) { padding: 0 10px; text-align: left ; width: auto;} td:nth-child(2) {text-align: left ; width: 100%}\n",
       "    .wandb-row { display: flex; flex-direction: row; flex-wrap: wrap; justify-content: flex-start; width: 100% }\n",
       "    .wandb-col { display: flex; flex-direction: column; flex-basis: 100%; flex: 1; padding: 10px; }\n",
       "    </style>\n",
       "<div class=\"wandb-row\"><div class=\"wandb-col\"><h3>Run history:</h3><br/><table class=\"wandb\"><tr><td>eval/acc</td><td>▂▂▃▃▃▁▃▃▄▄▆▅▅▇▇▇████▇▇▇▇▇█</td></tr><tr><td>eval/loss</td><td>█▇▇▇▇▇▅▄▃▃▃▂▃▂▂▂▂▁▁▁▁▁▁▁▁▁</td></tr><tr><td>eval/runtime</td><td>▂▃▁▁▁▁▁▁▁▃▃▃▃▃▅▃▃▃▃▃▃▂▁▂▂█</td></tr><tr><td>eval/samples_per_second</td><td>▅▃███████▃▃▃▃▃▁▃▃▃▃▃▃▅█▆▆▇</td></tr><tr><td>eval/steps_per_second</td><td>▅▃███████▃▃▃▃▃▁▃▃▃▃▃▃▅█▆▆▇</td></tr><tr><td>train/epoch</td><td>▁▁▁▁▂▂▂▂▂▁▁▁▂▂▂▂▂▃▃▃▄▄▄▄▅▅▅▅▆▆▆▇▇▇▇▇████</td></tr><tr><td>train/global_step</td><td>▁▁▁▁▂▂▂▂▂▁▁▁▂▂▂▂▃▃▃▄▄▄▄▄▅▅▅▅▆▆▆▇▇▇▇█████</td></tr><tr><td>train/learning_rate</td><td>▇▇▅▄▂▁██▇▇▇▆▆▅▅▅▄▄▄▃▃▂▂▂▁▁</td></tr><tr><td>train/loss</td><td>█▆▅▅▄▄▅▄▃▃▂▂▂▂▂▂▁▂▁▁▁▁▁▁▁▁</td></tr><tr><td>train/total_flos</td><td>▁▁</td></tr><tr><td>train/train_loss</td><td>█▁</td></tr><tr><td>train/train_runtime</td><td>▁█</td></tr><tr><td>train/train_samples_per_second</td><td>█▁</td></tr><tr><td>train/train_steps_per_second</td><td>█▁</td></tr><tr><td>train_acc</td><td>▁</td></tr><tr><td>train_loss</td><td>▁</td></tr></table><br/></div><div class=\"wandb-col\"><h3>Run summary:</h3><br/><table class=\"wandb\"><tr><td>eval/acc</td><td>0.9593</td></tr><tr><td>eval/loss</td><td>0.16355</td></tr><tr><td>eval/runtime</td><td>97.9859</td></tr><tr><td>eval/samples_per_second</td><td>40.618</td></tr><tr><td>eval/steps_per_second</td><td>1.276</td></tr><tr><td>train/epoch</td><td>20.0</td></tr><tr><td>train/global_step</td><td>2500</td></tr><tr><td>train/learning_rate</td><td>0.0</td></tr><tr><td>train/loss</td><td>0.2493</td></tr><tr><td>train/total_flos</td><td>0.0</td></tr><tr><td>train/train_loss</td><td>0.29476</td></tr><tr><td>train/train_runtime</td><td>3752.2447</td></tr><tr><td>train/train_samples_per_second</td><td>21.214</td></tr><tr><td>train/train_steps_per_second</td><td>0.666</td></tr><tr><td>train_acc</td><td>0.9593</td></tr><tr><td>train_loss</td><td>0.16355</td></tr></table><br/></div></div>"
      ],
      "text/plain": [
       "<IPython.core.display.HTML object>"
      ]
     },
     "metadata": {},
     "output_type": "display_data"
    },
    {
     "data": {
      "text/html": [
       " View run <strong style=\"color:#cdcd00\">earthy-sky-130</strong> at: <a href='https://wandb.ai/larivia_2024/huggingface/runs/vqyko7se' target=\"_blank\">https://wandb.ai/larivia_2024/huggingface/runs/vqyko7se</a><br/>Synced 5 W&B file(s), 0 media file(s), 0 artifact file(s) and 0 other file(s)"
      ],
      "text/plain": [
       "<IPython.core.display.HTML object>"
      ]
     },
     "metadata": {},
     "output_type": "display_data"
    },
    {
     "data": {
      "text/html": [
       "Find logs at: <code>.\\wandb\\run-20240610_080432-vqyko7se\\logs</code>"
      ],
      "text/plain": [
       "<IPython.core.display.HTML object>"
      ]
     },
     "metadata": {},
     "output_type": "display_data"
    },
    {
     "data": {
      "image/png": "[encoded data removed]",
      "text/plain": [
       "<Figure size 640x480 with 1 Axes>"
      ]
     },
     "metadata": {},
     "output_type": "display_data"
    }
   ],
   "source": [
    "from torch.optim import AdamW\n",
    "\n",
    "bertTEXT_checkpoint_path = os.path.join(main_path_output, 'bertTEXT', 'checkpoints').replace('\\\\', '/')\n",
    "dit_checkpoint_path = os.path.join(main_path_output, 'dit', 'checkpoints').replace('\\\\', '/')\n",
    "bertURL_checkpoint_path = os.path.join(main_path_output, 'bertURL', 'checkpoints').replace('\\\\', '/')\n",
    "bertCAT_checkpoint_path  = os.path.join(main_path_output, 'bertCAT', 'checkpoints').replace('\\\\', '/')\n",
    "\n",
    "if __name__ == '__main__':\n",
    "    for i in range(NUM_EXECUTIONS):\n",
    "          \n",
    "        train_dataset = EDPDataset(image_folder, train_df)\n",
    "        test_dataset = EDPDataset(image_folder, test_df)\n",
    "\n",
    "        checkpoints = os.listdir(os.path.join(bertTEXT_checkpoint_path, f'fold{i+1}').replace('\\\\', '/'))\n",
    "        bertTEXT_checkpoint = os.path.join(bertTEXT_checkpoint_path, f'fold{i+1}', checkpoints[-1]).replace('\\\\', '/')\n",
    "\n",
    "        checkpoints = os.listdir(os.path.join(dit_checkpoint_path, f'fold{i+1}').replace('\\\\', '/'))\n",
    "        dit_checkpoint = os.path.join(dit_checkpoint_path, f'fold{i+1}', checkpoints[-1]).replace('\\\\', '/')\n",
    "\n",
    "        checkpoints = os.listdir(os.path.join(bertURL_checkpoint_path, f'fold{i+1}').replace('\\\\', '/'))\n",
    "        bertURL_checkpoint = os.path.join(bertURL_checkpoint_path, f'fold{i+1}', checkpoints[-1]).replace('\\\\', '/')\n",
    "\n",
    "        checkpoints = os.listdir(os.path.join(bertCAT_checkpoint_path, f'fold{i+1}').replace('\\\\', '/'))\n",
    "        bertCAT_checkpoint = os.path.join(bertCAT_checkpoint_path, f'fold{i+1}', checkpoints[-1]).replace('\\\\', '/')\n",
    "        \n",
    "        names = ['a', 'b']\n",
    "        model = HMSD(bert_pretrain_weight=bertTEXT_checkpoint, beit_pretrain_weight=dit_checkpoint, text_category_pretrain_weight=bertCAT_checkpoint, url_pretrain_weight=bertURL_checkpoint)\n",
    "        #model = MMTD(bert_pretrain_weight=bertTEXT_checkpoint, beit_pretrain_weight=dit_checkpoint)\n",
    "\n",
    "        for p in model.text_encoder.parameters():\n",
    "            p.requires_grad = False\n",
    "        for p in model.image_encoder.parameters():\n",
    "            p.requires_grad = False       \n",
    "        for p in model.text_category_encoder.parameters():\n",
    "            p.requires_grad = False\n",
    "        for p in model.url_encoder.parameters():\n",
    "            p.requires_grad = False\n",
    "       \n",
    "        optimizer = AdamW(model.parameters(), lr=5e-3)\n",
    "\n",
    "        args = TrainingArguments(\n",
    "            output_dir=os.path.join(main_path_output, 'hsmd', 'checkpoints', f'fold_{i + 1}'),\n",
    "            logging_dir=os.path.join(main_path_output, 'hsmd', 'log'),\n",
    "            logging_strategy='epoch',\n",
    "            per_device_train_batch_size= TRAIN_BATCH_SIZE,\n",
    "            per_device_eval_batch_size = VALID_BATCH_SIZE,\n",
    "            num_train_epochs=NUM_EPOCHS,\n",
    "            weight_decay=0.0,\n",
    "            save_strategy=\"epoch\",\n",
    "            evaluation_strategy=\"epoch\",\n",
    "            load_best_model_at_end=True,\n",
    "            dataloader_num_workers=0,\n",
    "            dataloader_pin_memory=True,\n",
    "            auto_find_batch_size=False,\n",
    "            overwrite_output_dir=True,\n",
    "            save_total_limit=5,\n",
    "            remove_unused_columns=False,\n",
    "            report_to=[\"wandb\"],\n",
    "        )\n",
    "\n",
    "        args.num_train_epochs= 5\n",
    "        trainer = Trainer(\n",
    "            model=model,\n",
    "            args=args,\n",
    "            train_dataset=train_dataset,\n",
    "            eval_dataset=test_dataset,\n",
    "            optimizers=(optimizer, None),\n",
    "            data_collator=EDPCollator(),\n",
    "            compute_metrics=metrics,\n",
    "        )\n",
    "        \n",
    "        trainer.train()\n",
    "\n",
    "        model.combine_everything = True \n",
    "        args.num_train_epochs= 20\n",
    "        \n",
    "        trainer = Trainer(\n",
    "            model=model,\n",
    "            args=args,\n",
    "            train_dataset=train_dataset,\n",
    "            eval_dataset=test_dataset,\n",
    "            optimizers=(optimizer, None),\n",
    "            data_collator=EDPCollator(),\n",
    "            compute_metrics=metrics,\n",
    "        )\n",
    "        trainer.train()\n",
    "       \n",
    "        try:            \n",
    "            train_acc = trainer.evaluate(eval_dataset=train_dataset)\n",
    "            train_result = {'train_acc': train_acc['eval_acc'], 'train_loss': train_acc['eval_loss']}\n",
    "            trainer.compute_metrics = EvalMetrics(os.path.join(main_path_output, 'hsmd', 'results'), f'fold_{i + 1}', True, target_names = names)\n",
    "            wandb.log(train_result)\n",
    "\n",
    "            test_acc = trainer.evaluate(eval_dataset=test_dataset)\n",
    "            test_result = {'test_acc': test_acc['eval_acc'], 'test_loss': test_acc['eval_loss']}\n",
    "            wandb.log(test_result)\n",
    "\n",
    "            wandb.config = args.to_dict()\n",
    "            save_config(args.to_dict(), os.path.join(main_path_output, 'hsmd', 'configs', f'fold_{i + 1}.yaml'))\n",
    "        except FileNotFoundError as e:\n",
    "            print(f\"Error: {e}\")\n",
    "        finally:\n",
    "            wandb.finish()\n",
    "            del model, args, trainer   "
   ]
  },
  {
   "cell_type": "code",
   "execution_count": null,
   "id": "336219eb",
   "metadata": {},
   "outputs": [
    {
     "data": {
      "text/html": [
       "wandb version 0.17.0 is available!  To upgrade, please run:\n",
       " $ pip install wandb --upgrade"
      ],
      "text/plain": [
       "<IPython.core.display.HTML object>"
      ]
     },
     "metadata": {},
     "output_type": "display_data"
    },
    {
     "data": {
      "text/html": [
       "Tracking run with wandb version 0.16.3"
      ],
      "text/plain": [
       "<IPython.core.display.HTML object>"
      ]
     },
     "metadata": {},
     "output_type": "display_data"
    },
    {
     "data": {
      "text/html": [
       "Run data is saved locally in <code>c:\\codes_data\\MMTD\\V2\\wandb\\run-20240530_162757-wvckio5o</code>"
      ],
      "text/plain": [
       "<IPython.core.display.HTML object>"
      ]
     },
     "metadata": {},
     "output_type": "display_data"
    },
    {
     "data": {
      "text/html": [
       "Syncing run <strong><a href='https://wandb.ai/larivia_2024/HMSD/runs/wvckio5o' target=\"_blank\">atomic-yogurt-185</a></strong> to <a href='https://wandb.ai/larivia_2024/HMSD' target=\"_blank\">Weights & Biases</a> (<a href='https://wandb.me/run' target=\"_blank\">docs</a>)<br/>"
      ],
      "text/plain": [
       "<IPython.core.display.HTML object>"
      ]
     },
     "metadata": {},
     "output_type": "display_data"
    },
    {
     "data": {
      "text/html": [
       " View project at <a href='https://wandb.ai/larivia_2024/HMSD' target=\"_blank\">https://wandb.ai/larivia_2024/HMSD</a>"
      ],
      "text/plain": [
       "<IPython.core.display.HTML object>"
      ]
     },
     "metadata": {},
     "output_type": "display_data"
    },
    {
     "data": {
      "text/html": [
       " View run at <a href='https://wandb.ai/larivia_2024/HMSD/runs/wvckio5o' target=\"_blank\">https://wandb.ai/larivia_2024/HMSD/runs/wvckio5o</a>"
      ],
      "text/plain": [
       "<IPython.core.display.HTML object>"
      ]
     },
     "metadata": {},
     "output_type": "display_data"
    },
    {
     "name": "stderr",
     "output_type": "stream",
     "text": [
      "Some weights of BertForSequenceClassification were not initialized from the model checkpoint at bert-base-multilingual-cased and are newly initialized: ['classifier.bias', 'classifier.weight']\n",
      "You should probably TRAIN this model on a down-stream task to be able to use it for predictions and inference.\n"
     ]
    },
    {
     "data": {
      "application/vnd.jupyter.widget-view+json": {
       "model_id": "232c5a46d7a64ecfb7db20864e5761ea",
       "version_major": 2,
       "version_minor": 0
      },
      "text/plain": [
       "  0%|          | 0/375 [00:00<?, ?it/s]"
      ]
     },
     "metadata": {},
     "output_type": "display_data"
    },
    {
     "name": "stdout",
     "output_type": "stream",
     "text": [
      "{'loss': 0.5241, 'learning_rate': 3.3333333333333335e-05, 'epoch': 1.0}\n"
     ]
    },
    {
     "data": {
      "application/vnd.jupyter.widget-view+json": {
       "model_id": "0a831159ba5e4a21a74bc4da09f83f09",
       "version_major": 2,
       "version_minor": 0
      },
      "text/plain": [
       "  0%|          | 0/63 [00:00<?, ?it/s]"
      ]
     },
     "metadata": {},
     "output_type": "display_data"
    },
    {
     "name": "stderr",
     "output_type": "stream",
     "text": [
      "Checkpoint destination directory C:/codes_data/MMTD/V2/output/bertTEXT/checkpoints/fold1\\checkpoint-125 already exists and is non-empty.Saving will proceed but saved results may be invalid.\n"
     ]
    },
    {
     "name": "stdout",
     "output_type": "stream",
     "text": [
      "{'eval_loss': 0.4670894145965576, 'eval_acc': 0.7834170854271357, 'eval_runtime': 10.2158, 'eval_samples_per_second': 194.796, 'eval_steps_per_second': 6.167, 'epoch': 1.0}\n",
      "{'loss': 0.4439, 'learning_rate': 1.6666666666666667e-05, 'epoch': 2.0}\n"
     ]
    },
    {
     "data": {
      "application/vnd.jupyter.widget-view+json": {
       "model_id": "7aa2122617914d12a485c6d3e9d9a273",
       "version_major": 2,
       "version_minor": 0
      },
      "text/plain": [
       "  0%|          | 0/63 [00:00<?, ?it/s]"
      ]
     },
     "metadata": {},
     "output_type": "display_data"
    },
    {
     "name": "stderr",
     "output_type": "stream",
     "text": [
      "Checkpoint destination directory C:/codes_data/MMTD/V2/output/bertTEXT/checkpoints/fold1\\checkpoint-250 already exists and is non-empty.Saving will proceed but saved results may be invalid.\n"
     ]
    },
    {
     "name": "stdout",
     "output_type": "stream",
     "text": [
      "{'eval_loss': 0.4410802721977234, 'eval_acc': 0.7939698492462312, 'eval_runtime': 10.6535, 'eval_samples_per_second': 186.794, 'eval_steps_per_second': 5.914, 'epoch': 2.0}\n",
      "{'loss': 0.4122, 'learning_rate': 0.0, 'epoch': 3.0}\n"
     ]
    },
    {
     "data": {
      "application/vnd.jupyter.widget-view+json": {
       "model_id": "bc3320f6a62648cb93063ddd887d491d",
       "version_major": 2,
       "version_minor": 0
      },
      "text/plain": [
       "  0%|          | 0/63 [00:00<?, ?it/s]"
      ]
     },
     "metadata": {},
     "output_type": "display_data"
    },
    {
     "name": "stderr",
     "output_type": "stream",
     "text": [
      "Checkpoint destination directory C:/codes_data/MMTD/V2/output/bertTEXT/checkpoints/fold1\\checkpoint-375 already exists and is non-empty.Saving will proceed but saved results may be invalid.\n"
     ]
    },
    {
     "name": "stdout",
     "output_type": "stream",
     "text": [
      "{'eval_loss': 0.4286060333251953, 'eval_acc': 0.7964824120603015, 'eval_runtime': 10.6127, 'eval_samples_per_second': 187.512, 'eval_steps_per_second': 5.936, 'epoch': 3.0}\n",
      "{'train_runtime': 193.2087, 'train_samples_per_second': 61.798, 'train_steps_per_second': 1.941, 'train_loss': 0.4600808614095052, 'epoch': 3.0}\n"
     ]
    },
    {
     "data": {
      "application/vnd.jupyter.widget-view+json": {
       "model_id": "47dd40528ca34f32b491dd14ff118fdc",
       "version_major": 2,
       "version_minor": 0
      },
      "text/plain": [
       "  0%|          | 0/125 [00:00<?, ?it/s]"
      ]
     },
     "metadata": {},
     "output_type": "display_data"
    },
    {
     "data": {
      "application/vnd.jupyter.widget-view+json": {
       "model_id": "0da44c03f1304473a9a52c3bd250edb2",
       "version_major": 2,
       "version_minor": 0
      },
      "text/plain": [
       "  0%|          | 0/63 [00:00<?, ?it/s]"
      ]
     },
     "metadata": {},
     "output_type": "display_data"
    },
    {
     "data": {
      "image/png": "[encoded data removed]",
      "text/plain": [
       "<Figure size 640x480 with 1 Axes>"
      ]
     },
     "metadata": {},
     "output_type": "display_data"
    },
    {
     "data": {
      "image/png": "[encoded data removed]",
      "text/plain": [
       "<Figure size 640x480 with 2 Axes>"
      ]
     },
     "metadata": {},
     "output_type": "display_data"
    },
    {
     "name": "stdout",
     "output_type": "stream",
     "text": [
      "Error: [Errno 2] No such file or directory: 'C:/codes_data/MMTD/V2/output/bertTEXT/configs/bertTEXT-fold-1.yaml'\n"
     ]
    },
    {
     "data": {
      "application/vnd.jupyter.widget-view+json": {
       "model_id": "afbffa86a02a47b1b99b91eebc73f668",
       "version_major": 2,
       "version_minor": 0
      },
      "text/plain": [
       "VBox(children=(Label(value='0.001 MB of 0.001 MB uploaded\\r'), FloatProgress(value=1.0, max=1.0)))"
      ]
     },
     "metadata": {},
     "output_type": "display_data"
    },
    {
     "data": {
      "text/html": [
       "<style>\n",
       "    table.wandb td:nth-child(1) { padding: 0 10px; text-align: left ; width: auto;} td:nth-child(2) {text-align: left ; width: 100%}\n",
       "    .wandb-row { display: flex; flex-direction: row; flex-wrap: wrap; justify-content: flex-start; width: 100% }\n",
       "    .wandb-col { display: flex; flex-direction: column; flex-basis: 100%; flex: 1; padding: 10px; }\n",
       "    </style>\n",
       "<div class=\"wandb-row\"><div class=\"wandb-col\"><h3>Run history:</h3><br/><table class=\"wandb\"><tr><td>eval/acc</td><td>▁▃▃█▃</td></tr><tr><td>eval/loss</td><td>█▆▅▁▅</td></tr><tr><td>eval/runtime</td><td>▁▁▁█▁</td></tr><tr><td>eval/samples_per_second</td><td>█▃▃▆▁</td></tr><tr><td>eval/steps_per_second</td><td>█▃▃▅▁</td></tr><tr><td>test_acc</td><td>▁</td></tr><tr><td>test_loss</td><td>▁</td></tr><tr><td>train/epoch</td><td>▁▁▅▅█████</td></tr><tr><td>train/global_step</td><td>▁▁▅▅███████</td></tr><tr><td>train/learning_rate</td><td>█▅▁</td></tr><tr><td>train/loss</td><td>█▃▁</td></tr><tr><td>train/total_flos</td><td>▁</td></tr><tr><td>train/train_loss</td><td>▁</td></tr><tr><td>train/train_runtime</td><td>▁</td></tr><tr><td>train/train_samples_per_second</td><td>▁</td></tr><tr><td>train/train_steps_per_second</td><td>▁</td></tr><tr><td>train_acc</td><td>▁</td></tr><tr><td>train_loss</td><td>▁</td></tr></table><br/></div><div class=\"wandb-col\"><h3>Run summary:</h3><br/><table class=\"wandb\"><tr><td>eval/acc</td><td>0.79648</td></tr><tr><td>eval/loss</td><td>0.42861</td></tr><tr><td>eval/runtime</td><td>10.8085</td></tr><tr><td>eval/samples_per_second</td><td>184.115</td></tr><tr><td>eval/steps_per_second</td><td>5.829</td></tr><tr><td>test_acc</td><td>0.79648</td></tr><tr><td>test_loss</td><td>0.42861</td></tr><tr><td>train/epoch</td><td>3.0</td></tr><tr><td>train/global_step</td><td>375</td></tr><tr><td>train/learning_rate</td><td>0.0</td></tr><tr><td>train/loss</td><td>0.4122</td></tr><tr><td>train/total_flos</td><td>1570773000499200.0</td></tr><tr><td>train/train_loss</td><td>0.46008</td></tr><tr><td>train/train_runtime</td><td>193.2087</td></tr><tr><td>train/train_samples_per_second</td><td>61.798</td></tr><tr><td>train/train_steps_per_second</td><td>1.941</td></tr><tr><td>train_acc</td><td>0.82186</td></tr><tr><td>train_loss</td><td>0.38674</td></tr></table><br/></div></div>"
      ],
      "text/plain": [
       "<IPython.core.display.HTML object>"
      ]
     },
     "metadata": {},
     "output_type": "display_data"
    },
    {
     "data": {
      "text/html": [
       " View run <strong style=\"color:#cdcd00\">atomic-yogurt-185</strong> at: <a href='https://wandb.ai/larivia_2024/HMSD/runs/wvckio5o' target=\"_blank\">https://wandb.ai/larivia_2024/HMSD/runs/wvckio5o</a><br/>Synced 5 W&B file(s), 0 media file(s), 0 artifact file(s) and 0 other file(s)"
      ],
      "text/plain": [
       "<IPython.core.display.HTML object>"
      ]
     },
     "metadata": {},
     "output_type": "display_data"
    },
    {
     "data": {
      "text/html": [
       "Find logs at: <code>.\\wandb\\run-20240530_162757-wvckio5o\\logs</code>"
      ],
      "text/plain": [
       "<IPython.core.display.HTML object>"
      ]
     },
     "metadata": {},
     "output_type": "display_data"
    }
   ],
   "source": [
    "if __name__ == '__main__':\n",
    "    for i in range(NUM_EXECUTIONS):\n",
    "        wandb.init(project='HMSD')\n",
    "        wandb.run.name = 'bertTEXT-fold-' + str(i + 1)\n",
    "        train_df, test_df = split_data()\n",
    "\n",
    "        names = ['a', 'b'] \n",
    "        train_dataset = Email_text_dataset( train_df)\n",
    "        test_dataset = Email_text_dataset( test_df)\n",
    "\n",
    "        model = BertForSequenceClassification.from_pretrained('bert-base-multilingual-cased', num_labels=2).to(DEVICE)\n",
    "\n",
    "        args = TrainingArguments(\n",
    "            output_dir=main_path_output + 'bertTEXT/checkpoints/fold' + str(i + 1),\n",
    "            logging_dir=main_path_output + 'bertTEXT/log',\n",
    "            logging_strategy='epoch',\n",
    "            learning_rate=5e-5,\n",
    "            per_device_train_batch_size= TRAIN_BATCH_SIZE,\n",
    "            per_device_eval_batch_size = VALID_BATCH_SIZE,\n",
    "            num_train_epochs=NUM_EPOCHS,\n",
    "            save_strategy=\"epoch\",\n",
    "            evaluation_strategy=\"epoch\",\n",
    "            load_best_model_at_end=True,\n",
    "            dataloader_num_workers=0,\n",
    "            dataloader_pin_memory=True,\n",
    "            run_name=wandb.run.name,\n",
    "            auto_find_batch_size=False,\n",
    "            overwrite_output_dir=True,\n",
    "            save_total_limit=8,\n",
    "            remove_unused_columns=False,\n",
    "            report_to=[\"wandb\"],\n",
    "        )\n",
    "\n",
    "        trainer = Trainer(\n",
    "            model=model,\n",
    "            args=args,\n",
    "            train_dataset=train_dataset,\n",
    "            eval_dataset=test_dataset,\n",
    "            data_collator=EDPTextCollator(),\n",
    "            compute_metrics=metrics,\n",
    "        )\n",
    "\n",
    "        try:\n",
    "            trainer.train()\n",
    "            train_acc = trainer.evaluate(eval_dataset=train_dataset)\n",
    "            train_result = {'train_acc': train_acc['eval_acc'], 'train_loss': train_acc['eval_loss']}\n",
    "            wandb.log(train_result)\n",
    "\n",
    "            trainer.compute_metrics = EvalMetrics(main_path_output + 'bertTEXT/results', wandb.run.name, True, target_names = names)\n",
    "            test_acc = trainer.evaluate(eval_dataset=test_dataset)\n",
    "            test_result = {'test_acc': test_acc['eval_acc'], 'test_loss': test_acc['eval_loss']}\n",
    "            wandb.log(test_result)\n",
    "            wandb.config = args.to_dict()\n",
    "\n",
    "            save_config(args.to_dict(), os.path.join(main_path_output + 'bertTEXT/configs', wandb.run.name + '.yaml').replace('\\\\', '/'))\n",
    "        except FileNotFoundError as e:\n",
    "            print(f\"Error: {e}\")\n",
    "        finally:\n",
    "            wandb.finish()\n",
    "            del model, args, trainer"
   ]
  },
  {
   "cell_type": "code",
   "execution_count": null,
   "id": "fc331ab2",
   "metadata": {},
   "outputs": [
    {
     "name": "stderr",
     "output_type": "stream",
     "text": [
      "Failed to detect the name of this notebook, you can set it manually with the WANDB_NOTEBOOK_NAME environment variable to enable code saving.\n",
      "\u001b[34m\u001b[1mwandb\u001b[0m: Currently logged in as: \u001b[33mms-allili\u001b[0m (\u001b[33mlarivia_2024\u001b[0m). Use \u001b[1m`wandb login --relogin`\u001b[0m to force relogin\n"
     ]
    },
    {
     "data": {
      "text/html": [
       "wandb version 0.17.0 is available!  To upgrade, please run:\n",
       " $ pip install wandb --upgrade"
      ],
      "text/plain": [
       "<IPython.core.display.HTML object>"
      ]
     },
     "metadata": {},
     "output_type": "display_data"
    },
    {
     "data": {
      "text/html": [
       "Tracking run with wandb version 0.16.3"
      ],
      "text/plain": [
       "<IPython.core.display.HTML object>"
      ]
     },
     "metadata": {},
     "output_type": "display_data"
    },
    {
     "data": {
      "text/html": [
       "Run data is saved locally in <code>c:\\codes_data\\MMTD\\V2\\wandb\\run-20240530_164454-i7rclp6o</code>"
      ],
      "text/plain": [
       "<IPython.core.display.HTML object>"
      ]
     },
     "metadata": {},
     "output_type": "display_data"
    },
    {
     "data": {
      "text/html": [
       "Syncing run <strong><a href='https://wandb.ai/larivia_2024/HMSD/runs/i7rclp6o' target=\"_blank\">sparkling-sea-187</a></strong> to <a href='https://wandb.ai/larivia_2024/HMSD' target=\"_blank\">Weights & Biases</a> (<a href='https://wandb.me/run' target=\"_blank\">docs</a>)<br/>"
      ],
      "text/plain": [
       "<IPython.core.display.HTML object>"
      ]
     },
     "metadata": {},
     "output_type": "display_data"
    },
    {
     "data": {
      "text/html": [
       " View project at <a href='https://wandb.ai/larivia_2024/HMSD' target=\"_blank\">https://wandb.ai/larivia_2024/HMSD</a>"
      ],
      "text/plain": [
       "<IPython.core.display.HTML object>"
      ]
     },
     "metadata": {},
     "output_type": "display_data"
    },
    {
     "data": {
      "text/html": [
       " View run at <a href='https://wandb.ai/larivia_2024/HMSD/runs/i7rclp6o' target=\"_blank\">https://wandb.ai/larivia_2024/HMSD/runs/i7rclp6o</a>"
      ],
      "text/plain": [
       "<IPython.core.display.HTML object>"
      ]
     },
     "metadata": {},
     "output_type": "display_data"
    },
    {
     "name": "stderr",
     "output_type": "stream",
     "text": [
      "C:\\Users\\allimo01\\AppData\\Local\\Packages\\PythonSoftwareFoundation.Python.3.11_qbz5n2kfra8p0\\LocalCache\\local-packages\\Python311\\site-packages\\torch\\_utils.py:831: UserWarning: TypedStorage is deprecated. It will be removed in the future and UntypedStorage will be the only storage class. This should only matter to you if you are using storages directly.  To access UntypedStorage directly, use tensor.untyped_storage() instead of tensor.storage()\n",
      "  return self.fget.__get__(instance, owner)()\n",
      "Some weights of BeitForImageClassification were not initialized from the model checkpoint at microsoft/dit-base and are newly initialized: ['beit.pooler.layernorm.bias', 'beit.pooler.layernorm.weight', 'classifier.bias', 'classifier.weight']\n",
      "You should probably TRAIN this model on a down-stream task to be able to use it for predictions and inference.\n",
      "C:\\Users\\allimo01\\AppData\\Local\\Packages\\PythonSoftwareFoundation.Python.3.11_qbz5n2kfra8p0\\LocalCache\\local-packages\\Python311\\site-packages\\transformers\\models\\beit\\feature_extraction_beit.py:28: FutureWarning: The class BeitFeatureExtractor is deprecated and will be removed in version 5 of Transformers. Please use BeitImageProcessor instead.\n",
      "  warnings.warn(\n",
      "C:\\Users\\allimo01\\AppData\\Local\\Packages\\PythonSoftwareFoundation.Python.3.11_qbz5n2kfra8p0\\LocalCache\\local-packages\\Python311\\site-packages\\transformers\\models\\beit\\image_processing_beit.py:110: FutureWarning: The `reduce_labels` parameter is deprecated and will be removed in a future version. Please use `do_reduce_labels` instead.\n",
      "  warnings.warn(\n"
     ]
    },
    {
     "data": {
      "application/vnd.jupyter.widget-view+json": {
       "model_id": "45516303d580420fa7e7b7efc81020f6",
       "version_major": 2,
       "version_minor": 0
      },
      "text/plain": [
       "  0%|          | 0/375 [00:00<?, ?it/s]"
      ]
     },
     "metadata": {},
     "output_type": "display_data"
    },
    {
     "name": "stdout",
     "output_type": "stream",
     "text": [
      "{'loss': 0.4775, 'learning_rate': 3.3333333333333335e-05, 'epoch': 1.0}\n"
     ]
    },
    {
     "data": {
      "application/vnd.jupyter.widget-view+json": {
       "model_id": "81d5ea27871e455cbda2cbdb75ef6c3f",
       "version_major": 2,
       "version_minor": 0
      },
      "text/plain": [
       "  0%|          | 0/63 [00:00<?, ?it/s]"
      ]
     },
     "metadata": {},
     "output_type": "display_data"
    },
    {
     "name": "stderr",
     "output_type": "stream",
     "text": [
      "Checkpoint destination directory C:/codes_data/MMTD/V2/output/dit/checkpoints/fold1\\checkpoint-125 already exists and is non-empty.Saving will proceed but saved results may be invalid.\n"
     ]
    },
    {
     "name": "stdout",
     "output_type": "stream",
     "text": [
      "{'eval_loss': 0.438411682844162, 'eval_acc': 0.8472361809045226, 'eval_runtime': 29.8752, 'eval_samples_per_second': 66.61, 'eval_steps_per_second': 2.109, 'epoch': 1.0}\n"
     ]
    },
    {
     "data": {
      "application/vnd.jupyter.widget-view+json": {
       "model_id": "e8c2b31971c4490abfa9e713ea9f98a4",
       "version_major": 2,
       "version_minor": 0
      },
      "text/plain": [
       "VBox(children=(Label(value='0.001 MB of 0.001 MB uploaded\\r'), FloatProgress(value=1.0, max=1.0)))"
      ]
     },
     "metadata": {},
     "output_type": "display_data"
    },
    {
     "data": {
      "text/html": [
       "<style>\n",
       "    table.wandb td:nth-child(1) { padding: 0 10px; text-align: left ; width: auto;} td:nth-child(2) {text-align: left ; width: 100%}\n",
       "    .wandb-row { display: flex; flex-direction: row; flex-wrap: wrap; justify-content: flex-start; width: 100% }\n",
       "    .wandb-col { display: flex; flex-direction: column; flex-basis: 100%; flex: 1; padding: 10px; }\n",
       "    </style>\n",
       "<div class=\"wandb-row\"><div class=\"wandb-col\"><h3>Run history:</h3><br/><table class=\"wandb\"><tr><td>eval/acc</td><td>▁</td></tr><tr><td>eval/loss</td><td>▁</td></tr><tr><td>eval/runtime</td><td>▁</td></tr><tr><td>eval/samples_per_second</td><td>▁</td></tr><tr><td>eval/steps_per_second</td><td>▁</td></tr><tr><td>train/epoch</td><td>▁▁</td></tr><tr><td>train/global_step</td><td>▁▁</td></tr><tr><td>train/learning_rate</td><td>▁</td></tr><tr><td>train/loss</td><td>▁</td></tr></table><br/></div><div class=\"wandb-col\"><h3>Run summary:</h3><br/><table class=\"wandb\"><tr><td>eval/acc</td><td>0.84724</td></tr><tr><td>eval/loss</td><td>0.43841</td></tr><tr><td>eval/runtime</td><td>29.8752</td></tr><tr><td>eval/samples_per_second</td><td>66.61</td></tr><tr><td>eval/steps_per_second</td><td>2.109</td></tr><tr><td>train/epoch</td><td>1.0</td></tr><tr><td>train/global_step</td><td>125</td></tr><tr><td>train/learning_rate</td><td>3e-05</td></tr><tr><td>train/loss</td><td>0.4775</td></tr></table><br/></div></div>"
      ],
      "text/plain": [
       "<IPython.core.display.HTML object>"
      ]
     },
     "metadata": {},
     "output_type": "display_data"
    },
    {
     "data": {
      "text/html": [
       " View run <strong style=\"color:#cdcd00\">sparkling-sea-187</strong> at: <a href='https://wandb.ai/larivia_2024/HMSD/runs/i7rclp6o' target=\"_blank\">https://wandb.ai/larivia_2024/HMSD/runs/i7rclp6o</a><br/>Synced 5 W&B file(s), 0 media file(s), 0 artifact file(s) and 0 other file(s)"
      ],
      "text/plain": [
       "<IPython.core.display.HTML object>"
      ]
     },
     "metadata": {},
     "output_type": "display_data"
    },
    {
     "data": {
      "text/html": [
       "Find logs at: <code>.\\wandb\\run-20240530_164454-i7rclp6o\\logs</code>"
      ],
      "text/plain": [
       "<IPython.core.display.HTML object>"
      ]
     },
     "metadata": {},
     "output_type": "display_data"
    },
    {
     "ename": "KeyboardInterrupt",
     "evalue": "",
     "output_type": "error",
     "traceback": [
      "\u001b[1;31m---------------------------------------------------------------------------\u001b[0m",
      "\u001b[1;31mKeyboardInterrupt\u001b[0m                         Traceback (most recent call last)",
      "Cell \u001b[1;32mIn[8], line 44\u001b[0m\n\u001b[0;32m     34\u001b[0m trainer \u001b[38;5;241m=\u001b[39m Trainer(\n\u001b[0;32m     35\u001b[0m     model\u001b[38;5;241m=\u001b[39mmodel,\n\u001b[0;32m     36\u001b[0m     args\u001b[38;5;241m=\u001b[39margs,\n\u001b[1;32m   (...)\u001b[0m\n\u001b[0;32m     40\u001b[0m     compute_metrics\u001b[38;5;241m=\u001b[39mmetrics,\n\u001b[0;32m     41\u001b[0m )\n\u001b[0;32m     42\u001b[0m \u001b[38;5;28;01mtry\u001b[39;00m:\n\u001b[1;32m---> 44\u001b[0m     \u001b[43mtrainer\u001b[49m\u001b[38;5;241;43m.\u001b[39;49m\u001b[43mtrain\u001b[49m\u001b[43m(\u001b[49m\u001b[43m)\u001b[49m\n\u001b[0;32m     46\u001b[0m     train_acc \u001b[38;5;241m=\u001b[39m trainer\u001b[38;5;241m.\u001b[39mevaluate(eval_dataset\u001b[38;5;241m=\u001b[39mtrain_dataset)\n\u001b[0;32m     47\u001b[0m     train_result \u001b[38;5;241m=\u001b[39m {\u001b[38;5;124m'\u001b[39m\u001b[38;5;124mtrain_acc\u001b[39m\u001b[38;5;124m'\u001b[39m: train_acc[\u001b[38;5;124m'\u001b[39m\u001b[38;5;124meval_acc\u001b[39m\u001b[38;5;124m'\u001b[39m], \u001b[38;5;124m'\u001b[39m\u001b[38;5;124mtrain_loss\u001b[39m\u001b[38;5;124m'\u001b[39m: train_acc[\u001b[38;5;124m'\u001b[39m\u001b[38;5;124meval_loss\u001b[39m\u001b[38;5;124m'\u001b[39m]}\n",
      "File \u001b[1;32m~\\AppData\\Local\\Packages\\PythonSoftwareFoundation.Python.3.11_qbz5n2kfra8p0\\LocalCache\\local-packages\\Python311\\site-packages\\transformers\\trainer.py:1539\u001b[0m, in \u001b[0;36mTrainer.train\u001b[1;34m(self, resume_from_checkpoint, trial, ignore_keys_for_eval, **kwargs)\u001b[0m\n\u001b[0;32m   1537\u001b[0m         hf_hub_utils\u001b[38;5;241m.\u001b[39menable_progress_bars()\n\u001b[0;32m   1538\u001b[0m \u001b[38;5;28;01melse\u001b[39;00m:\n\u001b[1;32m-> 1539\u001b[0m     \u001b[38;5;28;01mreturn\u001b[39;00m \u001b[43minner_training_loop\u001b[49m\u001b[43m(\u001b[49m\n\u001b[0;32m   1540\u001b[0m \u001b[43m        \u001b[49m\u001b[43margs\u001b[49m\u001b[38;5;241;43m=\u001b[39;49m\u001b[43margs\u001b[49m\u001b[43m,\u001b[49m\n\u001b[0;32m   1541\u001b[0m \u001b[43m        \u001b[49m\u001b[43mresume_from_checkpoint\u001b[49m\u001b[38;5;241;43m=\u001b[39;49m\u001b[43mresume_from_checkpoint\u001b[49m\u001b[43m,\u001b[49m\n\u001b[0;32m   1542\u001b[0m \u001b[43m        \u001b[49m\u001b[43mtrial\u001b[49m\u001b[38;5;241;43m=\u001b[39;49m\u001b[43mtrial\u001b[49m\u001b[43m,\u001b[49m\n\u001b[0;32m   1543\u001b[0m \u001b[43m        \u001b[49m\u001b[43mignore_keys_for_eval\u001b[49m\u001b[38;5;241;43m=\u001b[39;49m\u001b[43mignore_keys_for_eval\u001b[49m\u001b[43m,\u001b[49m\n\u001b[0;32m   1544\u001b[0m \u001b[43m    \u001b[49m\u001b[43m)\u001b[49m\n",
      "File \u001b[1;32m~\\AppData\\Local\\Packages\\PythonSoftwareFoundation.Python.3.11_qbz5n2kfra8p0\\LocalCache\\local-packages\\Python311\\site-packages\\transformers\\trainer.py:1836\u001b[0m, in \u001b[0;36mTrainer._inner_training_loop\u001b[1;34m(self, batch_size, args, resume_from_checkpoint, trial, ignore_keys_for_eval)\u001b[0m\n\u001b[0;32m   1833\u001b[0m     rng_to_sync \u001b[38;5;241m=\u001b[39m \u001b[38;5;28;01mTrue\u001b[39;00m\n\u001b[0;32m   1835\u001b[0m step \u001b[38;5;241m=\u001b[39m \u001b[38;5;241m-\u001b[39m\u001b[38;5;241m1\u001b[39m\n\u001b[1;32m-> 1836\u001b[0m \u001b[43m\u001b[49m\u001b[38;5;28;43;01mfor\u001b[39;49;00m\u001b[43m \u001b[49m\u001b[43mstep\u001b[49m\u001b[43m,\u001b[49m\u001b[43m \u001b[49m\u001b[43minputs\u001b[49m\u001b[43m \u001b[49m\u001b[38;5;129;43;01min\u001b[39;49;00m\u001b[43m \u001b[49m\u001b[38;5;28;43menumerate\u001b[39;49m\u001b[43m(\u001b[49m\u001b[43mepoch_iterator\u001b[49m\u001b[43m)\u001b[49m\u001b[43m:\u001b[49m\n\u001b[0;32m   1837\u001b[0m \u001b[43m    \u001b[49m\u001b[43mtotal_batched_samples\u001b[49m\u001b[43m \u001b[49m\u001b[38;5;241;43m+\u001b[39;49m\u001b[38;5;241;43m=\u001b[39;49m\u001b[43m \u001b[49m\u001b[38;5;241;43m1\u001b[39;49m\n\u001b[0;32m   1839\u001b[0m \u001b[43m    \u001b[49m\u001b[38;5;28;43;01mif\u001b[39;49;00m\u001b[43m \u001b[49m\u001b[38;5;28;43mself\u001b[39;49m\u001b[38;5;241;43m.\u001b[39;49m\u001b[43margs\u001b[49m\u001b[38;5;241;43m.\u001b[39;49m\u001b[43minclude_num_input_tokens_seen\u001b[49m\u001b[43m:\u001b[49m\n",
      "File \u001b[1;32m~\\AppData\\Local\\Packages\\PythonSoftwareFoundation.Python.3.11_qbz5n2kfra8p0\\LocalCache\\local-packages\\Python311\\site-packages\\accelerate\\data_loader.py:462\u001b[0m, in \u001b[0;36mDataLoaderShard.__iter__\u001b[1;34m(self)\u001b[0m\n\u001b[0;32m    460\u001b[0m \u001b[38;5;28;01mif\u001b[39;00m \u001b[38;5;28mself\u001b[39m\u001b[38;5;241m.\u001b[39mdevice \u001b[38;5;129;01mis\u001b[39;00m \u001b[38;5;129;01mnot\u001b[39;00m \u001b[38;5;28;01mNone\u001b[39;00m:\n\u001b[0;32m    461\u001b[0m     current_batch \u001b[38;5;241m=\u001b[39m send_to_device(current_batch, \u001b[38;5;28mself\u001b[39m\u001b[38;5;241m.\u001b[39mdevice)\n\u001b[1;32m--> 462\u001b[0m next_batch \u001b[38;5;241m=\u001b[39m \u001b[38;5;28mnext\u001b[39m(dataloader_iter)\n\u001b[0;32m    463\u001b[0m \u001b[38;5;28;01mif\u001b[39;00m batch_index \u001b[38;5;241m>\u001b[39m\u001b[38;5;241m=\u001b[39m \u001b[38;5;28mself\u001b[39m\u001b[38;5;241m.\u001b[39mskip_batches:\n\u001b[0;32m    464\u001b[0m     \u001b[38;5;28;01myield\u001b[39;00m current_batch\n",
      "File \u001b[1;32m~\\AppData\\Local\\Packages\\PythonSoftwareFoundation.Python.3.11_qbz5n2kfra8p0\\LocalCache\\local-packages\\Python311\\site-packages\\torch\\utils\\data\\dataloader.py:630\u001b[0m, in \u001b[0;36m_BaseDataLoaderIter.__next__\u001b[1;34m(self)\u001b[0m\n\u001b[0;32m    627\u001b[0m \u001b[38;5;28;01mif\u001b[39;00m \u001b[38;5;28mself\u001b[39m\u001b[38;5;241m.\u001b[39m_sampler_iter \u001b[38;5;129;01mis\u001b[39;00m \u001b[38;5;28;01mNone\u001b[39;00m:\n\u001b[0;32m    628\u001b[0m     \u001b[38;5;66;03m# TODO(https://github.com/pytorch/pytorch/issues/76750)\u001b[39;00m\n\u001b[0;32m    629\u001b[0m     \u001b[38;5;28mself\u001b[39m\u001b[38;5;241m.\u001b[39m_reset()  \u001b[38;5;66;03m# type: ignore[call-arg]\u001b[39;00m\n\u001b[1;32m--> 630\u001b[0m data \u001b[38;5;241m=\u001b[39m \u001b[38;5;28;43mself\u001b[39;49m\u001b[38;5;241;43m.\u001b[39;49m\u001b[43m_next_data\u001b[49m\u001b[43m(\u001b[49m\u001b[43m)\u001b[49m\n\u001b[0;32m    631\u001b[0m \u001b[38;5;28mself\u001b[39m\u001b[38;5;241m.\u001b[39m_num_yielded \u001b[38;5;241m+\u001b[39m\u001b[38;5;241m=\u001b[39m \u001b[38;5;241m1\u001b[39m\n\u001b[0;32m    632\u001b[0m \u001b[38;5;28;01mif\u001b[39;00m \u001b[38;5;28mself\u001b[39m\u001b[38;5;241m.\u001b[39m_dataset_kind \u001b[38;5;241m==\u001b[39m _DatasetKind\u001b[38;5;241m.\u001b[39mIterable \u001b[38;5;129;01mand\u001b[39;00m \\\n\u001b[0;32m    633\u001b[0m         \u001b[38;5;28mself\u001b[39m\u001b[38;5;241m.\u001b[39m_IterableDataset_len_called \u001b[38;5;129;01mis\u001b[39;00m \u001b[38;5;129;01mnot\u001b[39;00m \u001b[38;5;28;01mNone\u001b[39;00m \u001b[38;5;129;01mand\u001b[39;00m \\\n\u001b[0;32m    634\u001b[0m         \u001b[38;5;28mself\u001b[39m\u001b[38;5;241m.\u001b[39m_num_yielded \u001b[38;5;241m>\u001b[39m \u001b[38;5;28mself\u001b[39m\u001b[38;5;241m.\u001b[39m_IterableDataset_len_called:\n",
      "File \u001b[1;32m~\\AppData\\Local\\Packages\\PythonSoftwareFoundation.Python.3.11_qbz5n2kfra8p0\\LocalCache\\local-packages\\Python311\\site-packages\\torch\\utils\\data\\dataloader.py:674\u001b[0m, in \u001b[0;36m_SingleProcessDataLoaderIter._next_data\u001b[1;34m(self)\u001b[0m\n\u001b[0;32m    672\u001b[0m \u001b[38;5;28;01mdef\u001b[39;00m \u001b[38;5;21m_next_data\u001b[39m(\u001b[38;5;28mself\u001b[39m):\n\u001b[0;32m    673\u001b[0m     index \u001b[38;5;241m=\u001b[39m \u001b[38;5;28mself\u001b[39m\u001b[38;5;241m.\u001b[39m_next_index()  \u001b[38;5;66;03m# may raise StopIteration\u001b[39;00m\n\u001b[1;32m--> 674\u001b[0m     data \u001b[38;5;241m=\u001b[39m \u001b[38;5;28;43mself\u001b[39;49m\u001b[38;5;241;43m.\u001b[39;49m\u001b[43m_dataset_fetcher\u001b[49m\u001b[38;5;241;43m.\u001b[39;49m\u001b[43mfetch\u001b[49m\u001b[43m(\u001b[49m\u001b[43mindex\u001b[49m\u001b[43m)\u001b[49m  \u001b[38;5;66;03m# may raise StopIteration\u001b[39;00m\n\u001b[0;32m    675\u001b[0m     \u001b[38;5;28;01mif\u001b[39;00m \u001b[38;5;28mself\u001b[39m\u001b[38;5;241m.\u001b[39m_pin_memory:\n\u001b[0;32m    676\u001b[0m         data \u001b[38;5;241m=\u001b[39m _utils\u001b[38;5;241m.\u001b[39mpin_memory\u001b[38;5;241m.\u001b[39mpin_memory(data, \u001b[38;5;28mself\u001b[39m\u001b[38;5;241m.\u001b[39m_pin_memory_device)\n",
      "File \u001b[1;32m~\\AppData\\Local\\Packages\\PythonSoftwareFoundation.Python.3.11_qbz5n2kfra8p0\\LocalCache\\local-packages\\Python311\\site-packages\\torch\\utils\\data\\_utils\\fetch.py:54\u001b[0m, in \u001b[0;36m_MapDatasetFetcher.fetch\u001b[1;34m(self, possibly_batched_index)\u001b[0m\n\u001b[0;32m     52\u001b[0m \u001b[38;5;28;01melse\u001b[39;00m:\n\u001b[0;32m     53\u001b[0m     data \u001b[38;5;241m=\u001b[39m \u001b[38;5;28mself\u001b[39m\u001b[38;5;241m.\u001b[39mdataset[possibly_batched_index]\n\u001b[1;32m---> 54\u001b[0m \u001b[38;5;28;01mreturn\u001b[39;00m \u001b[38;5;28;43mself\u001b[39;49m\u001b[38;5;241;43m.\u001b[39;49m\u001b[43mcollate_fn\u001b[49m\u001b[43m(\u001b[49m\u001b[43mdata\u001b[49m\u001b[43m)\u001b[49m\n",
      "Cell \u001b[1;32mIn[5], line 163\u001b[0m, in \u001b[0;36mEDPPictureCollator.__call__\u001b[1;34m(self, data)\u001b[0m\n\u001b[0;32m    161\u001b[0m \u001b[38;5;28;01mdef\u001b[39;00m \u001b[38;5;21m__call__\u001b[39m(\u001b[38;5;28mself\u001b[39m, data):\n\u001b[0;32m    162\u001b[0m     text_list, picture_list, label_list, text_category_list, taux_obf_list, url_list, type_url_list, length_list, digit_proportion_list, unique_word_count_list, special_char_proportion_list, sentiment_polarity_list, lexical_diversity_list, average_word_length_list \u001b[38;5;241m=\u001b[39m \u001b[38;5;28mzip\u001b[39m(\u001b[38;5;241m*\u001b[39mdata)\n\u001b[1;32m--> 163\u001b[0m     pixel_values \u001b[38;5;241m=\u001b[39m \u001b[38;5;28;43mself\u001b[39;49m\u001b[38;5;241;43m.\u001b[39;49m\u001b[43mfeature_extractor\u001b[49m\u001b[43m(\u001b[49m\u001b[43mpicture_list\u001b[49m\u001b[43m,\u001b[49m\u001b[43m \u001b[49m\u001b[43mreturn_tensors\u001b[49m\u001b[38;5;241;43m=\u001b[39;49m\u001b[38;5;124;43m'\u001b[39;49m\u001b[38;5;124;43mpt\u001b[39;49m\u001b[38;5;124;43m'\u001b[39;49m\u001b[43m)\u001b[49m\n\u001b[0;32m    164\u001b[0m     labels \u001b[38;5;241m=\u001b[39m torch\u001b[38;5;241m.\u001b[39mLongTensor(label_list)\n\u001b[0;32m    165\u001b[0m     inputs \u001b[38;5;241m=\u001b[39m \u001b[38;5;28mdict\u001b[39m()\n",
      "File \u001b[1;32m~\\AppData\\Local\\Packages\\PythonSoftwareFoundation.Python.3.11_qbz5n2kfra8p0\\LocalCache\\local-packages\\Python311\\site-packages\\transformers\\models\\beit\\image_processing_beit.py:310\u001b[0m, in \u001b[0;36mBeitImageProcessor.__call__\u001b[1;34m(self, images, segmentation_maps, **kwargs)\u001b[0m\n\u001b[0;32m    307\u001b[0m \u001b[38;5;28;01mdef\u001b[39;00m \u001b[38;5;21m__call__\u001b[39m(\u001b[38;5;28mself\u001b[39m, images, segmentation_maps\u001b[38;5;241m=\u001b[39m\u001b[38;5;28;01mNone\u001b[39;00m, \u001b[38;5;241m*\u001b[39m\u001b[38;5;241m*\u001b[39mkwargs):\n\u001b[0;32m    308\u001b[0m     \u001b[38;5;66;03m# Overrides the `__call__` method of the `Preprocessor` class such that the images and segmentation maps can both\u001b[39;00m\n\u001b[0;32m    309\u001b[0m     \u001b[38;5;66;03m# be passed in as positional arguments.\u001b[39;00m\n\u001b[1;32m--> 310\u001b[0m     \u001b[38;5;28;01mreturn\u001b[39;00m \u001b[38;5;28;43msuper\u001b[39;49m\u001b[43m(\u001b[49m\u001b[43m)\u001b[49m\u001b[38;5;241;43m.\u001b[39;49m\u001b[38;5;21;43m__call__\u001b[39;49m\u001b[43m(\u001b[49m\u001b[43mimages\u001b[49m\u001b[43m,\u001b[49m\u001b[43m \u001b[49m\u001b[43msegmentation_maps\u001b[49m\u001b[38;5;241;43m=\u001b[39;49m\u001b[43msegmentation_maps\u001b[49m\u001b[43m,\u001b[49m\u001b[43m \u001b[49m\u001b[38;5;241;43m*\u001b[39;49m\u001b[38;5;241;43m*\u001b[39;49m\u001b[43mkwargs\u001b[49m\u001b[43m)\u001b[49m\n",
      "File \u001b[1;32m~\\AppData\\Local\\Packages\\PythonSoftwareFoundation.Python.3.11_qbz5n2kfra8p0\\LocalCache\\local-packages\\Python311\\site-packages\\transformers\\image_processing_utils.py:552\u001b[0m, in \u001b[0;36mBaseImageProcessor.__call__\u001b[1;34m(self, images, **kwargs)\u001b[0m\n\u001b[0;32m    550\u001b[0m \u001b[38;5;28;01mdef\u001b[39;00m \u001b[38;5;21m__call__\u001b[39m(\u001b[38;5;28mself\u001b[39m, images, \u001b[38;5;241m*\u001b[39m\u001b[38;5;241m*\u001b[39mkwargs) \u001b[38;5;241m-\u001b[39m\u001b[38;5;241m>\u001b[39m BatchFeature:\n\u001b[0;32m    551\u001b[0m \u001b[38;5;250m    \u001b[39m\u001b[38;5;124;03m\"\"\"Preprocess an image or a batch of images.\"\"\"\u001b[39;00m\n\u001b[1;32m--> 552\u001b[0m     \u001b[38;5;28;01mreturn\u001b[39;00m \u001b[38;5;28;43mself\u001b[39;49m\u001b[38;5;241;43m.\u001b[39;49m\u001b[43mpreprocess\u001b[49m\u001b[43m(\u001b[49m\u001b[43mimages\u001b[49m\u001b[43m,\u001b[49m\u001b[43m \u001b[49m\u001b[38;5;241;43m*\u001b[39;49m\u001b[38;5;241;43m*\u001b[39;49m\u001b[43mkwargs\u001b[49m\u001b[43m)\u001b[49m\n",
      "File \u001b[1;32m~\\AppData\\Local\\Packages\\PythonSoftwareFoundation.Python.3.11_qbz5n2kfra8p0\\LocalCache\\local-packages\\Python311\\site-packages\\transformers\\models\\beit\\image_processing_beit.py:426\u001b[0m, in \u001b[0;36mBeitImageProcessor.preprocess\u001b[1;34m(self, images, segmentation_maps, do_resize, size, resample, do_center_crop, crop_size, do_rescale, rescale_factor, do_normalize, image_mean, image_std, do_reduce_labels, return_tensors, data_format, input_data_format, **kwargs)\u001b[0m\n\u001b[0;32m    423\u001b[0m \u001b[38;5;28;01mif\u001b[39;00m do_normalize \u001b[38;5;129;01mand\u001b[39;00m (image_mean \u001b[38;5;129;01mis\u001b[39;00m \u001b[38;5;28;01mNone\u001b[39;00m \u001b[38;5;129;01mor\u001b[39;00m image_std \u001b[38;5;129;01mis\u001b[39;00m \u001b[38;5;28;01mNone\u001b[39;00m):\n\u001b[0;32m    424\u001b[0m     \u001b[38;5;28;01mraise\u001b[39;00m \u001b[38;5;167;01mValueError\u001b[39;00m(\u001b[38;5;124m\"\u001b[39m\u001b[38;5;124mImage mean and std must be specified if do_normalize is True.\u001b[39m\u001b[38;5;124m\"\u001b[39m)\n\u001b[1;32m--> 426\u001b[0m images \u001b[38;5;241m=\u001b[39m \u001b[43m[\u001b[49m\n\u001b[0;32m    427\u001b[0m \u001b[43m    \u001b[49m\u001b[38;5;28;43mself\u001b[39;49m\u001b[38;5;241;43m.\u001b[39;49m\u001b[43m_preprocess_image\u001b[49m\u001b[43m(\u001b[49m\n\u001b[0;32m    428\u001b[0m \u001b[43m        \u001b[49m\u001b[43mimage\u001b[49m\u001b[38;5;241;43m=\u001b[39;49m\u001b[43mimg\u001b[49m\u001b[43m,\u001b[49m\n\u001b[0;32m    429\u001b[0m \u001b[43m        \u001b[49m\u001b[43mdo_resize\u001b[49m\u001b[38;5;241;43m=\u001b[39;49m\u001b[43mdo_resize\u001b[49m\u001b[43m,\u001b[49m\n\u001b[0;32m    430\u001b[0m \u001b[43m        \u001b[49m\u001b[43mdo_center_crop\u001b[49m\u001b[38;5;241;43m=\u001b[39;49m\u001b[43mdo_center_crop\u001b[49m\u001b[43m,\u001b[49m\n\u001b[0;32m    431\u001b[0m \u001b[43m        \u001b[49m\u001b[43mdo_rescale\u001b[49m\u001b[38;5;241;43m=\u001b[39;49m\u001b[43mdo_rescale\u001b[49m\u001b[43m,\u001b[49m\n\u001b[0;32m    432\u001b[0m \u001b[43m        \u001b[49m\u001b[43mdo_normalize\u001b[49m\u001b[38;5;241;43m=\u001b[39;49m\u001b[43mdo_normalize\u001b[49m\u001b[43m,\u001b[49m\n\u001b[0;32m    433\u001b[0m \u001b[43m        \u001b[49m\u001b[43mresample\u001b[49m\u001b[38;5;241;43m=\u001b[39;49m\u001b[43mresample\u001b[49m\u001b[43m,\u001b[49m\n\u001b[0;32m    434\u001b[0m \u001b[43m        \u001b[49m\u001b[43msize\u001b[49m\u001b[38;5;241;43m=\u001b[39;49m\u001b[43msize\u001b[49m\u001b[43m,\u001b[49m\n\u001b[0;32m    435\u001b[0m \u001b[43m        \u001b[49m\u001b[43mrescale_factor\u001b[49m\u001b[38;5;241;43m=\u001b[39;49m\u001b[43mrescale_factor\u001b[49m\u001b[43m,\u001b[49m\n\u001b[0;32m    436\u001b[0m \u001b[43m        \u001b[49m\u001b[43mcrop_size\u001b[49m\u001b[38;5;241;43m=\u001b[39;49m\u001b[43mcrop_size\u001b[49m\u001b[43m,\u001b[49m\n\u001b[0;32m    437\u001b[0m \u001b[43m        \u001b[49m\u001b[43mimage_mean\u001b[49m\u001b[38;5;241;43m=\u001b[39;49m\u001b[43mimage_mean\u001b[49m\u001b[43m,\u001b[49m\n\u001b[0;32m    438\u001b[0m \u001b[43m        \u001b[49m\u001b[43mimage_std\u001b[49m\u001b[38;5;241;43m=\u001b[39;49m\u001b[43mimage_std\u001b[49m\u001b[43m,\u001b[49m\n\u001b[0;32m    439\u001b[0m \u001b[43m        \u001b[49m\u001b[43mdata_format\u001b[49m\u001b[38;5;241;43m=\u001b[39;49m\u001b[43mdata_format\u001b[49m\u001b[43m,\u001b[49m\n\u001b[0;32m    440\u001b[0m \u001b[43m        \u001b[49m\u001b[43minput_data_format\u001b[49m\u001b[38;5;241;43m=\u001b[39;49m\u001b[43minput_data_format\u001b[49m\u001b[43m,\u001b[49m\n\u001b[0;32m    441\u001b[0m \u001b[43m    \u001b[49m\u001b[43m)\u001b[49m\n\u001b[0;32m    442\u001b[0m \u001b[43m    \u001b[49m\u001b[38;5;28;43;01mfor\u001b[39;49;00m\u001b[43m \u001b[49m\u001b[43mimg\u001b[49m\u001b[43m \u001b[49m\u001b[38;5;129;43;01min\u001b[39;49;00m\u001b[43m \u001b[49m\u001b[43mimages\u001b[49m\n\u001b[0;32m    443\u001b[0m \u001b[43m\u001b[49m\u001b[43m]\u001b[49m\n\u001b[0;32m    445\u001b[0m data \u001b[38;5;241m=\u001b[39m {\u001b[38;5;124m\"\u001b[39m\u001b[38;5;124mpixel_values\u001b[39m\u001b[38;5;124m\"\u001b[39m: images}\n\u001b[0;32m    447\u001b[0m \u001b[38;5;28;01mif\u001b[39;00m segmentation_maps \u001b[38;5;129;01mis\u001b[39;00m \u001b[38;5;129;01mnot\u001b[39;00m \u001b[38;5;28;01mNone\u001b[39;00m:\n",
      "File \u001b[1;32m~\\AppData\\Local\\Packages\\PythonSoftwareFoundation.Python.3.11_qbz5n2kfra8p0\\LocalCache\\local-packages\\Python311\\site-packages\\transformers\\models\\beit\\image_processing_beit.py:427\u001b[0m, in \u001b[0;36m<listcomp>\u001b[1;34m(.0)\u001b[0m\n\u001b[0;32m    423\u001b[0m \u001b[38;5;28;01mif\u001b[39;00m do_normalize \u001b[38;5;129;01mand\u001b[39;00m (image_mean \u001b[38;5;129;01mis\u001b[39;00m \u001b[38;5;28;01mNone\u001b[39;00m \u001b[38;5;129;01mor\u001b[39;00m image_std \u001b[38;5;129;01mis\u001b[39;00m \u001b[38;5;28;01mNone\u001b[39;00m):\n\u001b[0;32m    424\u001b[0m     \u001b[38;5;28;01mraise\u001b[39;00m \u001b[38;5;167;01mValueError\u001b[39;00m(\u001b[38;5;124m\"\u001b[39m\u001b[38;5;124mImage mean and std must be specified if do_normalize is True.\u001b[39m\u001b[38;5;124m\"\u001b[39m)\n\u001b[0;32m    426\u001b[0m images \u001b[38;5;241m=\u001b[39m [\n\u001b[1;32m--> 427\u001b[0m     \u001b[38;5;28;43mself\u001b[39;49m\u001b[38;5;241;43m.\u001b[39;49m\u001b[43m_preprocess_image\u001b[49m\u001b[43m(\u001b[49m\n\u001b[0;32m    428\u001b[0m \u001b[43m        \u001b[49m\u001b[43mimage\u001b[49m\u001b[38;5;241;43m=\u001b[39;49m\u001b[43mimg\u001b[49m\u001b[43m,\u001b[49m\n\u001b[0;32m    429\u001b[0m \u001b[43m        \u001b[49m\u001b[43mdo_resize\u001b[49m\u001b[38;5;241;43m=\u001b[39;49m\u001b[43mdo_resize\u001b[49m\u001b[43m,\u001b[49m\n\u001b[0;32m    430\u001b[0m \u001b[43m        \u001b[49m\u001b[43mdo_center_crop\u001b[49m\u001b[38;5;241;43m=\u001b[39;49m\u001b[43mdo_center_crop\u001b[49m\u001b[43m,\u001b[49m\n\u001b[0;32m    431\u001b[0m \u001b[43m        \u001b[49m\u001b[43mdo_rescale\u001b[49m\u001b[38;5;241;43m=\u001b[39;49m\u001b[43mdo_rescale\u001b[49m\u001b[43m,\u001b[49m\n\u001b[0;32m    432\u001b[0m \u001b[43m        \u001b[49m\u001b[43mdo_normalize\u001b[49m\u001b[38;5;241;43m=\u001b[39;49m\u001b[43mdo_normalize\u001b[49m\u001b[43m,\u001b[49m\n\u001b[0;32m    433\u001b[0m \u001b[43m        \u001b[49m\u001b[43mresample\u001b[49m\u001b[38;5;241;43m=\u001b[39;49m\u001b[43mresample\u001b[49m\u001b[43m,\u001b[49m\n\u001b[0;32m    434\u001b[0m \u001b[43m        \u001b[49m\u001b[43msize\u001b[49m\u001b[38;5;241;43m=\u001b[39;49m\u001b[43msize\u001b[49m\u001b[43m,\u001b[49m\n\u001b[0;32m    435\u001b[0m \u001b[43m        \u001b[49m\u001b[43mrescale_factor\u001b[49m\u001b[38;5;241;43m=\u001b[39;49m\u001b[43mrescale_factor\u001b[49m\u001b[43m,\u001b[49m\n\u001b[0;32m    436\u001b[0m \u001b[43m        \u001b[49m\u001b[43mcrop_size\u001b[49m\u001b[38;5;241;43m=\u001b[39;49m\u001b[43mcrop_size\u001b[49m\u001b[43m,\u001b[49m\n\u001b[0;32m    437\u001b[0m \u001b[43m        \u001b[49m\u001b[43mimage_mean\u001b[49m\u001b[38;5;241;43m=\u001b[39;49m\u001b[43mimage_mean\u001b[49m\u001b[43m,\u001b[49m\n\u001b[0;32m    438\u001b[0m \u001b[43m        \u001b[49m\u001b[43mimage_std\u001b[49m\u001b[38;5;241;43m=\u001b[39;49m\u001b[43mimage_std\u001b[49m\u001b[43m,\u001b[49m\n\u001b[0;32m    439\u001b[0m \u001b[43m        \u001b[49m\u001b[43mdata_format\u001b[49m\u001b[38;5;241;43m=\u001b[39;49m\u001b[43mdata_format\u001b[49m\u001b[43m,\u001b[49m\n\u001b[0;32m    440\u001b[0m \u001b[43m        \u001b[49m\u001b[43minput_data_format\u001b[49m\u001b[38;5;241;43m=\u001b[39;49m\u001b[43minput_data_format\u001b[49m\u001b[43m,\u001b[49m\n\u001b[0;32m    441\u001b[0m \u001b[43m    \u001b[49m\u001b[43m)\u001b[49m\n\u001b[0;32m    442\u001b[0m     \u001b[38;5;28;01mfor\u001b[39;00m img \u001b[38;5;129;01min\u001b[39;00m images\n\u001b[0;32m    443\u001b[0m ]\n\u001b[0;32m    445\u001b[0m data \u001b[38;5;241m=\u001b[39m {\u001b[38;5;124m\"\u001b[39m\u001b[38;5;124mpixel_values\u001b[39m\u001b[38;5;124m\"\u001b[39m: images}\n\u001b[0;32m    447\u001b[0m \u001b[38;5;28;01mif\u001b[39;00m segmentation_maps \u001b[38;5;129;01mis\u001b[39;00m \u001b[38;5;129;01mnot\u001b[39;00m \u001b[38;5;28;01mNone\u001b[39;00m:\n",
      "File \u001b[1;32m~\\AppData\\Local\\Packages\\PythonSoftwareFoundation.Python.3.11_qbz5n2kfra8p0\\LocalCache\\local-packages\\Python311\\site-packages\\transformers\\models\\beit\\image_processing_beit.py:247\u001b[0m, in \u001b[0;36mBeitImageProcessor._preprocess_image\u001b[1;34m(self, image, do_resize, size, resample, do_center_crop, crop_size, do_rescale, rescale_factor, do_normalize, image_mean, image_std, data_format, input_data_format)\u001b[0m\n\u001b[0;32m    245\u001b[0m \u001b[38;5;28;01mif\u001b[39;00m input_data_format \u001b[38;5;129;01mis\u001b[39;00m \u001b[38;5;28;01mNone\u001b[39;00m:\n\u001b[0;32m    246\u001b[0m     input_data_format \u001b[38;5;241m=\u001b[39m infer_channel_dimension_format(image)\n\u001b[1;32m--> 247\u001b[0m image \u001b[38;5;241m=\u001b[39m \u001b[38;5;28;43mself\u001b[39;49m\u001b[38;5;241;43m.\u001b[39;49m\u001b[43m_preprocess\u001b[49m\u001b[43m(\u001b[49m\n\u001b[0;32m    248\u001b[0m \u001b[43m    \u001b[49m\u001b[43mimage\u001b[49m\u001b[43m,\u001b[49m\n\u001b[0;32m    249\u001b[0m \u001b[43m    \u001b[49m\u001b[43mdo_reduce_labels\u001b[49m\u001b[38;5;241;43m=\u001b[39;49m\u001b[38;5;28;43;01mFalse\u001b[39;49;00m\u001b[43m,\u001b[49m\n\u001b[0;32m    250\u001b[0m \u001b[43m    \u001b[49m\u001b[43mdo_resize\u001b[49m\u001b[38;5;241;43m=\u001b[39;49m\u001b[43mdo_resize\u001b[49m\u001b[43m,\u001b[49m\n\u001b[0;32m    251\u001b[0m \u001b[43m    \u001b[49m\u001b[43msize\u001b[49m\u001b[38;5;241;43m=\u001b[39;49m\u001b[43msize\u001b[49m\u001b[43m,\u001b[49m\n\u001b[0;32m    252\u001b[0m \u001b[43m    \u001b[49m\u001b[43mresample\u001b[49m\u001b[38;5;241;43m=\u001b[39;49m\u001b[43mresample\u001b[49m\u001b[43m,\u001b[49m\n\u001b[0;32m    253\u001b[0m \u001b[43m    \u001b[49m\u001b[43mdo_center_crop\u001b[49m\u001b[38;5;241;43m=\u001b[39;49m\u001b[43mdo_center_crop\u001b[49m\u001b[43m,\u001b[49m\n\u001b[0;32m    254\u001b[0m \u001b[43m    \u001b[49m\u001b[43mcrop_size\u001b[49m\u001b[38;5;241;43m=\u001b[39;49m\u001b[43mcrop_size\u001b[49m\u001b[43m,\u001b[49m\n\u001b[0;32m    255\u001b[0m \u001b[43m    \u001b[49m\u001b[43mdo_rescale\u001b[49m\u001b[38;5;241;43m=\u001b[39;49m\u001b[43mdo_rescale\u001b[49m\u001b[43m,\u001b[49m\n\u001b[0;32m    256\u001b[0m \u001b[43m    \u001b[49m\u001b[43mrescale_factor\u001b[49m\u001b[38;5;241;43m=\u001b[39;49m\u001b[43mrescale_factor\u001b[49m\u001b[43m,\u001b[49m\n\u001b[0;32m    257\u001b[0m \u001b[43m    \u001b[49m\u001b[43mdo_normalize\u001b[49m\u001b[38;5;241;43m=\u001b[39;49m\u001b[43mdo_normalize\u001b[49m\u001b[43m,\u001b[49m\n\u001b[0;32m    258\u001b[0m \u001b[43m    \u001b[49m\u001b[43mimage_mean\u001b[49m\u001b[38;5;241;43m=\u001b[39;49m\u001b[43mimage_mean\u001b[49m\u001b[43m,\u001b[49m\n\u001b[0;32m    259\u001b[0m \u001b[43m    \u001b[49m\u001b[43mimage_std\u001b[49m\u001b[38;5;241;43m=\u001b[39;49m\u001b[43mimage_std\u001b[49m\u001b[43m,\u001b[49m\n\u001b[0;32m    260\u001b[0m \u001b[43m    \u001b[49m\u001b[43minput_data_format\u001b[49m\u001b[38;5;241;43m=\u001b[39;49m\u001b[43minput_data_format\u001b[49m\u001b[43m,\u001b[49m\n\u001b[0;32m    261\u001b[0m \u001b[43m\u001b[49m\u001b[43m)\u001b[49m\n\u001b[0;32m    262\u001b[0m \u001b[38;5;28;01mif\u001b[39;00m data_format \u001b[38;5;129;01mis\u001b[39;00m \u001b[38;5;129;01mnot\u001b[39;00m \u001b[38;5;28;01mNone\u001b[39;00m:\n\u001b[0;32m    263\u001b[0m     image \u001b[38;5;241m=\u001b[39m to_channel_dimension_format(image, data_format, input_channel_dim\u001b[38;5;241m=\u001b[39minput_data_format)\n",
      "File \u001b[1;32m~\\AppData\\Local\\Packages\\PythonSoftwareFoundation.Python.3.11_qbz5n2kfra8p0\\LocalCache\\local-packages\\Python311\\site-packages\\transformers\\models\\beit\\image_processing_beit.py:208\u001b[0m, in \u001b[0;36mBeitImageProcessor._preprocess\u001b[1;34m(self, image, do_reduce_labels, do_resize, size, resample, do_center_crop, crop_size, do_rescale, rescale_factor, do_normalize, image_mean, image_std, input_data_format)\u001b[0m\n\u001b[0;32m    205\u001b[0m     image \u001b[38;5;241m=\u001b[39m \u001b[38;5;28mself\u001b[39m\u001b[38;5;241m.\u001b[39mreduce_label(image)\n\u001b[0;32m    207\u001b[0m \u001b[38;5;28;01mif\u001b[39;00m do_resize:\n\u001b[1;32m--> 208\u001b[0m     image \u001b[38;5;241m=\u001b[39m \u001b[38;5;28;43mself\u001b[39;49m\u001b[38;5;241;43m.\u001b[39;49m\u001b[43mresize\u001b[49m\u001b[43m(\u001b[49m\u001b[43mimage\u001b[49m\u001b[38;5;241;43m=\u001b[39;49m\u001b[43mimage\u001b[49m\u001b[43m,\u001b[49m\u001b[43m \u001b[49m\u001b[43msize\u001b[49m\u001b[38;5;241;43m=\u001b[39;49m\u001b[43msize\u001b[49m\u001b[43m,\u001b[49m\u001b[43m \u001b[49m\u001b[43mresample\u001b[49m\u001b[38;5;241;43m=\u001b[39;49m\u001b[43mresample\u001b[49m\u001b[43m,\u001b[49m\u001b[43m \u001b[49m\u001b[43minput_data_format\u001b[49m\u001b[38;5;241;43m=\u001b[39;49m\u001b[43minput_data_format\u001b[49m\u001b[43m)\u001b[49m\n\u001b[0;32m    210\u001b[0m \u001b[38;5;28;01mif\u001b[39;00m do_center_crop:\n\u001b[0;32m    211\u001b[0m     image \u001b[38;5;241m=\u001b[39m \u001b[38;5;28mself\u001b[39m\u001b[38;5;241m.\u001b[39mcenter_crop(image\u001b[38;5;241m=\u001b[39mimage, size\u001b[38;5;241m=\u001b[39mcrop_size, input_data_format\u001b[38;5;241m=\u001b[39minput_data_format)\n",
      "File \u001b[1;32m~\\AppData\\Local\\Packages\\PythonSoftwareFoundation.Python.3.11_qbz5n2kfra8p0\\LocalCache\\local-packages\\Python311\\site-packages\\transformers\\models\\beit\\image_processing_beit.py:171\u001b[0m, in \u001b[0;36mBeitImageProcessor.resize\u001b[1;34m(self, image, size, resample, data_format, input_data_format, **kwargs)\u001b[0m\n\u001b[0;32m    169\u001b[0m \u001b[38;5;28;01mif\u001b[39;00m \u001b[38;5;124m\"\u001b[39m\u001b[38;5;124mheight\u001b[39m\u001b[38;5;124m\"\u001b[39m \u001b[38;5;129;01mnot\u001b[39;00m \u001b[38;5;129;01min\u001b[39;00m size \u001b[38;5;129;01mor\u001b[39;00m \u001b[38;5;124m\"\u001b[39m\u001b[38;5;124mwidth\u001b[39m\u001b[38;5;124m\"\u001b[39m \u001b[38;5;129;01mnot\u001b[39;00m \u001b[38;5;129;01min\u001b[39;00m size:\n\u001b[0;32m    170\u001b[0m     \u001b[38;5;28;01mraise\u001b[39;00m \u001b[38;5;167;01mValueError\u001b[39;00m(\u001b[38;5;124mf\u001b[39m\u001b[38;5;124m\"\u001b[39m\u001b[38;5;124mThe `size` argument must contain `height` and `width` keys. Got \u001b[39m\u001b[38;5;132;01m{\u001b[39;00msize\u001b[38;5;241m.\u001b[39mkeys()\u001b[38;5;132;01m}\u001b[39;00m\u001b[38;5;124m\"\u001b[39m)\n\u001b[1;32m--> 171\u001b[0m \u001b[38;5;28;01mreturn\u001b[39;00m \u001b[43mresize\u001b[49m\u001b[43m(\u001b[49m\n\u001b[0;32m    172\u001b[0m \u001b[43m    \u001b[49m\u001b[43mimage\u001b[49m\u001b[43m,\u001b[49m\n\u001b[0;32m    173\u001b[0m \u001b[43m    \u001b[49m\u001b[43msize\u001b[49m\u001b[38;5;241;43m=\u001b[39;49m\u001b[43m(\u001b[49m\u001b[43msize\u001b[49m\u001b[43m[\u001b[49m\u001b[38;5;124;43m\"\u001b[39;49m\u001b[38;5;124;43mheight\u001b[39;49m\u001b[38;5;124;43m\"\u001b[39;49m\u001b[43m]\u001b[49m\u001b[43m,\u001b[49m\u001b[43m \u001b[49m\u001b[43msize\u001b[49m\u001b[43m[\u001b[49m\u001b[38;5;124;43m\"\u001b[39;49m\u001b[38;5;124;43mwidth\u001b[39;49m\u001b[38;5;124;43m\"\u001b[39;49m\u001b[43m]\u001b[49m\u001b[43m)\u001b[49m\u001b[43m,\u001b[49m\n\u001b[0;32m    174\u001b[0m \u001b[43m    \u001b[49m\u001b[43mresample\u001b[49m\u001b[38;5;241;43m=\u001b[39;49m\u001b[43mresample\u001b[49m\u001b[43m,\u001b[49m\n\u001b[0;32m    175\u001b[0m \u001b[43m    \u001b[49m\u001b[43mdata_format\u001b[49m\u001b[38;5;241;43m=\u001b[39;49m\u001b[43mdata_format\u001b[49m\u001b[43m,\u001b[49m\n\u001b[0;32m    176\u001b[0m \u001b[43m    \u001b[49m\u001b[43minput_data_format\u001b[49m\u001b[38;5;241;43m=\u001b[39;49m\u001b[43minput_data_format\u001b[49m\u001b[43m,\u001b[49m\n\u001b[0;32m    177\u001b[0m \u001b[43m    \u001b[49m\u001b[38;5;241;43m*\u001b[39;49m\u001b[38;5;241;43m*\u001b[39;49m\u001b[43mkwargs\u001b[49m\u001b[43m,\u001b[49m\n\u001b[0;32m    178\u001b[0m \u001b[43m\u001b[49m\u001b[43m)\u001b[49m\n",
      "File \u001b[1;32m~\\AppData\\Local\\Packages\\PythonSoftwareFoundation.Python.3.11_qbz5n2kfra8p0\\LocalCache\\local-packages\\Python311\\site-packages\\transformers\\image_transforms.py:327\u001b[0m, in \u001b[0;36mresize\u001b[1;34m(image, size, resample, reducing_gap, data_format, return_numpy, input_data_format)\u001b[0m\n\u001b[0;32m    325\u001b[0m \u001b[38;5;28;01mif\u001b[39;00m \u001b[38;5;129;01mnot\u001b[39;00m \u001b[38;5;28misinstance\u001b[39m(image, PIL\u001b[38;5;241m.\u001b[39mImage\u001b[38;5;241m.\u001b[39mImage):\n\u001b[0;32m    326\u001b[0m     do_rescale \u001b[38;5;241m=\u001b[39m _rescale_for_pil_conversion(image)\n\u001b[1;32m--> 327\u001b[0m     image \u001b[38;5;241m=\u001b[39m \u001b[43mto_pil_image\u001b[49m\u001b[43m(\u001b[49m\u001b[43mimage\u001b[49m\u001b[43m,\u001b[49m\u001b[43m \u001b[49m\u001b[43mdo_rescale\u001b[49m\u001b[38;5;241;43m=\u001b[39;49m\u001b[43mdo_rescale\u001b[49m\u001b[43m,\u001b[49m\u001b[43m \u001b[49m\u001b[43minput_data_format\u001b[49m\u001b[38;5;241;43m=\u001b[39;49m\u001b[43minput_data_format\u001b[49m\u001b[43m)\u001b[49m\n\u001b[0;32m    328\u001b[0m height, width \u001b[38;5;241m=\u001b[39m size\n\u001b[0;32m    329\u001b[0m \u001b[38;5;66;03m# PIL images are in the format (width, height)\u001b[39;00m\n",
      "File \u001b[1;32m~\\AppData\\Local\\Packages\\PythonSoftwareFoundation.Python.3.11_qbz5n2kfra8p0\\LocalCache\\local-packages\\Python311\\site-packages\\transformers\\image_transforms.py:179\u001b[0m, in \u001b[0;36mto_pil_image\u001b[1;34m(image, do_rescale, input_data_format)\u001b[0m\n\u001b[0;32m    157\u001b[0m \u001b[38;5;28;01mdef\u001b[39;00m \u001b[38;5;21mto_pil_image\u001b[39m(\n\u001b[0;32m    158\u001b[0m     image: Union[np\u001b[38;5;241m.\u001b[39mndarray, \u001b[38;5;124m\"\u001b[39m\u001b[38;5;124mPIL.Image.Image\u001b[39m\u001b[38;5;124m\"\u001b[39m, \u001b[38;5;124m\"\u001b[39m\u001b[38;5;124mtorch.Tensor\u001b[39m\u001b[38;5;124m\"\u001b[39m, \u001b[38;5;124m\"\u001b[39m\u001b[38;5;124mtf.Tensor\u001b[39m\u001b[38;5;124m\"\u001b[39m, \u001b[38;5;124m\"\u001b[39m\u001b[38;5;124mjnp.ndarray\u001b[39m\u001b[38;5;124m\"\u001b[39m],\n\u001b[0;32m    159\u001b[0m     do_rescale: Optional[\u001b[38;5;28mbool\u001b[39m] \u001b[38;5;241m=\u001b[39m \u001b[38;5;28;01mNone\u001b[39;00m,\n\u001b[0;32m    160\u001b[0m     input_data_format: Optional[Union[\u001b[38;5;28mstr\u001b[39m, ChannelDimension]] \u001b[38;5;241m=\u001b[39m \u001b[38;5;28;01mNone\u001b[39;00m,\n\u001b[0;32m    161\u001b[0m ) \u001b[38;5;241m-\u001b[39m\u001b[38;5;241m>\u001b[39m \u001b[38;5;124m\"\u001b[39m\u001b[38;5;124mPIL.Image.Image\u001b[39m\u001b[38;5;124m\"\u001b[39m:\n\u001b[0;32m    162\u001b[0m \u001b[38;5;250m    \u001b[39m\u001b[38;5;124;03m\"\"\"\u001b[39;00m\n\u001b[0;32m    163\u001b[0m \u001b[38;5;124;03m    Converts `image` to a PIL Image. Optionally rescales it and puts the channel dimension back as the last axis if\u001b[39;00m\n\u001b[0;32m    164\u001b[0m \u001b[38;5;124;03m    needed.\u001b[39;00m\n\u001b[1;32m   (...)\u001b[0m\n\u001b[0;32m    177\u001b[0m \u001b[38;5;124;03m        `PIL.Image.Image`: The converted image.\u001b[39;00m\n\u001b[0;32m    178\u001b[0m \u001b[38;5;124;03m    \"\"\"\u001b[39;00m\n\u001b[1;32m--> 179\u001b[0m     \u001b[43mrequires_backends\u001b[49m\u001b[43m(\u001b[49m\u001b[43mto_pil_image\u001b[49m\u001b[43m,\u001b[49m\u001b[43m \u001b[49m\u001b[43m[\u001b[49m\u001b[38;5;124;43m\"\u001b[39;49m\u001b[38;5;124;43mvision\u001b[39;49m\u001b[38;5;124;43m\"\u001b[39;49m\u001b[43m]\u001b[49m\u001b[43m)\u001b[49m\n\u001b[0;32m    181\u001b[0m     \u001b[38;5;28;01mif\u001b[39;00m \u001b[38;5;28misinstance\u001b[39m(image, PIL\u001b[38;5;241m.\u001b[39mImage\u001b[38;5;241m.\u001b[39mImage):\n\u001b[0;32m    182\u001b[0m         \u001b[38;5;28;01mreturn\u001b[39;00m image\n",
      "File \u001b[1;32m~\\AppData\\Local\\Packages\\PythonSoftwareFoundation.Python.3.11_qbz5n2kfra8p0\\LocalCache\\local-packages\\Python311\\site-packages\\transformers\\utils\\import_utils.py:1290\u001b[0m, in \u001b[0;36mrequires_backends\u001b[1;34m(obj, backends)\u001b[0m\n\u001b[0;32m   1287\u001b[0m     \u001b[38;5;28;01mraise\u001b[39;00m \u001b[38;5;167;01mImportError\u001b[39;00m(TF_IMPORT_ERROR_WITH_PYTORCH\u001b[38;5;241m.\u001b[39mformat(name))\n\u001b[0;32m   1289\u001b[0m checks \u001b[38;5;241m=\u001b[39m (BACKENDS_MAPPING[backend] \u001b[38;5;28;01mfor\u001b[39;00m backend \u001b[38;5;129;01min\u001b[39;00m backends)\n\u001b[1;32m-> 1290\u001b[0m failed \u001b[38;5;241m=\u001b[39m \u001b[43m[\u001b[49m\u001b[43mmsg\u001b[49m\u001b[38;5;241;43m.\u001b[39;49m\u001b[43mformat\u001b[49m\u001b[43m(\u001b[49m\u001b[43mname\u001b[49m\u001b[43m)\u001b[49m\u001b[43m \u001b[49m\u001b[38;5;28;43;01mfor\u001b[39;49;00m\u001b[43m \u001b[49m\u001b[43mavailable\u001b[49m\u001b[43m,\u001b[49m\u001b[43m \u001b[49m\u001b[43mmsg\u001b[49m\u001b[43m \u001b[49m\u001b[38;5;129;43;01min\u001b[39;49;00m\u001b[43m \u001b[49m\u001b[43mchecks\u001b[49m\u001b[43m \u001b[49m\u001b[38;5;28;43;01mif\u001b[39;49;00m\u001b[43m \u001b[49m\u001b[38;5;129;43;01mnot\u001b[39;49;00m\u001b[43m \u001b[49m\u001b[43mavailable\u001b[49m\u001b[43m(\u001b[49m\u001b[43m)\u001b[49m\u001b[43m]\u001b[49m\n\u001b[0;32m   1291\u001b[0m \u001b[38;5;28;01mif\u001b[39;00m failed:\n\u001b[0;32m   1292\u001b[0m     \u001b[38;5;28;01mraise\u001b[39;00m \u001b[38;5;167;01mImportError\u001b[39;00m(\u001b[38;5;124m\"\u001b[39m\u001b[38;5;124m\"\u001b[39m\u001b[38;5;241m.\u001b[39mjoin(failed))\n",
      "File \u001b[1;32m~\\AppData\\Local\\Packages\\PythonSoftwareFoundation.Python.3.11_qbz5n2kfra8p0\\LocalCache\\local-packages\\Python311\\site-packages\\transformers\\utils\\import_utils.py:1290\u001b[0m, in \u001b[0;36m<listcomp>\u001b[1;34m(.0)\u001b[0m\n\u001b[0;32m   1287\u001b[0m     \u001b[38;5;28;01mraise\u001b[39;00m \u001b[38;5;167;01mImportError\u001b[39;00m(TF_IMPORT_ERROR_WITH_PYTORCH\u001b[38;5;241m.\u001b[39mformat(name))\n\u001b[0;32m   1289\u001b[0m checks \u001b[38;5;241m=\u001b[39m (BACKENDS_MAPPING[backend] \u001b[38;5;28;01mfor\u001b[39;00m backend \u001b[38;5;129;01min\u001b[39;00m backends)\n\u001b[1;32m-> 1290\u001b[0m failed \u001b[38;5;241m=\u001b[39m [msg\u001b[38;5;241m.\u001b[39mformat(name) \u001b[38;5;28;01mfor\u001b[39;00m available, msg \u001b[38;5;129;01min\u001b[39;00m checks \u001b[38;5;28;01mif\u001b[39;00m \u001b[38;5;129;01mnot\u001b[39;00m \u001b[43mavailable\u001b[49m\u001b[43m(\u001b[49m\u001b[43m)\u001b[49m]\n\u001b[0;32m   1291\u001b[0m \u001b[38;5;28;01mif\u001b[39;00m failed:\n\u001b[0;32m   1292\u001b[0m     \u001b[38;5;28;01mraise\u001b[39;00m \u001b[38;5;167;01mImportError\u001b[39;00m(\u001b[38;5;124m\"\u001b[39m\u001b[38;5;124m\"\u001b[39m\u001b[38;5;241m.\u001b[39mjoin(failed))\n",
      "File \u001b[1;32m~\\AppData\\Local\\Packages\\PythonSoftwareFoundation.Python.3.11_qbz5n2kfra8p0\\LocalCache\\local-packages\\Python311\\site-packages\\transformers\\utils\\import_utils.py:735\u001b[0m, in \u001b[0;36mis_vision_available\u001b[1;34m()\u001b[0m\n\u001b[0;32m    733\u001b[0m \u001b[38;5;28;01mif\u001b[39;00m _pil_available:\n\u001b[0;32m    734\u001b[0m     \u001b[38;5;28;01mtry\u001b[39;00m:\n\u001b[1;32m--> 735\u001b[0m         package_version \u001b[38;5;241m=\u001b[39m \u001b[43mimportlib\u001b[49m\u001b[38;5;241;43m.\u001b[39;49m\u001b[43mmetadata\u001b[49m\u001b[38;5;241;43m.\u001b[39;49m\u001b[43mversion\u001b[49m\u001b[43m(\u001b[49m\u001b[38;5;124;43m\"\u001b[39;49m\u001b[38;5;124;43mPillow\u001b[39;49m\u001b[38;5;124;43m\"\u001b[39;49m\u001b[43m)\u001b[49m\n\u001b[0;32m    736\u001b[0m     \u001b[38;5;28;01mexcept\u001b[39;00m importlib\u001b[38;5;241m.\u001b[39mmetadata\u001b[38;5;241m.\u001b[39mPackageNotFoundError:\n\u001b[0;32m    737\u001b[0m         \u001b[38;5;28;01mtry\u001b[39;00m:\n",
      "File \u001b[1;32mC:\\Program Files\\WindowsApps\\PythonSoftwareFoundation.Python.3.11_3.11.2544.0_x64__qbz5n2kfra8p0\\Lib\\importlib\\metadata\\__init__.py:1009\u001b[0m, in \u001b[0;36mversion\u001b[1;34m(distribution_name)\u001b[0m\n\u001b[0;32m   1002\u001b[0m \u001b[38;5;28;01mdef\u001b[39;00m \u001b[38;5;21mversion\u001b[39m(distribution_name):\n\u001b[0;32m   1003\u001b[0m \u001b[38;5;250m    \u001b[39m\u001b[38;5;124;03m\"\"\"Get the version string for the named package.\u001b[39;00m\n\u001b[0;32m   1004\u001b[0m \n\u001b[0;32m   1005\u001b[0m \u001b[38;5;124;03m    :param distribution_name: The name of the distribution package to query.\u001b[39;00m\n\u001b[0;32m   1006\u001b[0m \u001b[38;5;124;03m    :return: The version string for the package as defined in the package's\u001b[39;00m\n\u001b[0;32m   1007\u001b[0m \u001b[38;5;124;03m        \"Version\" metadata key.\u001b[39;00m\n\u001b[0;32m   1008\u001b[0m \u001b[38;5;124;03m    \"\"\"\u001b[39;00m\n\u001b[1;32m-> 1009\u001b[0m     \u001b[38;5;28;01mreturn\u001b[39;00m \u001b[43mdistribution\u001b[49m\u001b[43m(\u001b[49m\u001b[43mdistribution_name\u001b[49m\u001b[43m)\u001b[49m\u001b[38;5;241m.\u001b[39mversion\n",
      "File \u001b[1;32mC:\\Program Files\\WindowsApps\\PythonSoftwareFoundation.Python.3.11_3.11.2544.0_x64__qbz5n2kfra8p0\\Lib\\importlib\\metadata\\__init__.py:982\u001b[0m, in \u001b[0;36mdistribution\u001b[1;34m(distribution_name)\u001b[0m\n\u001b[0;32m    976\u001b[0m \u001b[38;5;28;01mdef\u001b[39;00m \u001b[38;5;21mdistribution\u001b[39m(distribution_name):\n\u001b[0;32m    977\u001b[0m \u001b[38;5;250m    \u001b[39m\u001b[38;5;124;03m\"\"\"Get the ``Distribution`` instance for the named package.\u001b[39;00m\n\u001b[0;32m    978\u001b[0m \n\u001b[0;32m    979\u001b[0m \u001b[38;5;124;03m    :param distribution_name: The name of the distribution package as a string.\u001b[39;00m\n\u001b[0;32m    980\u001b[0m \u001b[38;5;124;03m    :return: A ``Distribution`` instance (or subclass thereof).\u001b[39;00m\n\u001b[0;32m    981\u001b[0m \u001b[38;5;124;03m    \"\"\"\u001b[39;00m\n\u001b[1;32m--> 982\u001b[0m     \u001b[38;5;28;01mreturn\u001b[39;00m \u001b[43mDistribution\u001b[49m\u001b[38;5;241;43m.\u001b[39;49m\u001b[43mfrom_name\u001b[49m\u001b[43m(\u001b[49m\u001b[43mdistribution_name\u001b[49m\u001b[43m)\u001b[49m\n",
      "File \u001b[1;32mC:\\Program Files\\WindowsApps\\PythonSoftwareFoundation.Python.3.11_3.11.2544.0_x64__qbz5n2kfra8p0\\Lib\\importlib\\metadata\\__init__.py:563\u001b[0m, in \u001b[0;36mDistribution.from_name\u001b[1;34m(cls, name)\u001b[0m\n\u001b[0;32m    561\u001b[0m     \u001b[38;5;28;01mraise\u001b[39;00m \u001b[38;5;167;01mValueError\u001b[39;00m(\u001b[38;5;124m\"\u001b[39m\u001b[38;5;124mA distribution name is required.\u001b[39m\u001b[38;5;124m\"\u001b[39m)\n\u001b[0;32m    562\u001b[0m \u001b[38;5;28;01mtry\u001b[39;00m:\n\u001b[1;32m--> 563\u001b[0m     \u001b[38;5;28;01mreturn\u001b[39;00m \u001b[38;5;28mnext\u001b[39m(\u001b[38;5;28mcls\u001b[39m\u001b[38;5;241m.\u001b[39mdiscover(name\u001b[38;5;241m=\u001b[39mname))\n\u001b[0;32m    564\u001b[0m \u001b[38;5;28;01mexcept\u001b[39;00m \u001b[38;5;167;01mStopIteration\u001b[39;00m:\n\u001b[0;32m    565\u001b[0m     \u001b[38;5;28;01mraise\u001b[39;00m PackageNotFoundError(name)\n",
      "File \u001b[1;32mC:\\Program Files\\WindowsApps\\PythonSoftwareFoundation.Python.3.11_3.11.2544.0_x64__qbz5n2kfra8p0\\Lib\\importlib\\metadata\\__init__.py:915\u001b[0m, in \u001b[0;36m<genexpr>\u001b[1;34m(.0)\u001b[0m\n\u001b[0;32m    912\u001b[0m \u001b[38;5;250m\u001b[39m\u001b[38;5;124;03m\"\"\"Find metadata directories in paths heuristically.\"\"\"\u001b[39;00m\n\u001b[0;32m    913\u001b[0m prepared \u001b[38;5;241m=\u001b[39m Prepared(name)\n\u001b[0;32m    914\u001b[0m \u001b[38;5;28;01mreturn\u001b[39;00m itertools\u001b[38;5;241m.\u001b[39mchain\u001b[38;5;241m.\u001b[39mfrom_iterable(\n\u001b[1;32m--> 915\u001b[0m     \u001b[43mpath\u001b[49m\u001b[38;5;241;43m.\u001b[39;49m\u001b[43msearch\u001b[49m\u001b[43m(\u001b[49m\u001b[43mprepared\u001b[49m\u001b[43m)\u001b[49m \u001b[38;5;28;01mfor\u001b[39;00m path \u001b[38;5;129;01min\u001b[39;00m \u001b[38;5;28mmap\u001b[39m(FastPath, paths)\n\u001b[0;32m    916\u001b[0m )\n",
      "File \u001b[1;32mC:\\Program Files\\WindowsApps\\PythonSoftwareFoundation.Python.3.11_3.11.2544.0_x64__qbz5n2kfra8p0\\Lib\\importlib\\metadata\\__init__.py:813\u001b[0m, in \u001b[0;36mFastPath.search\u001b[1;34m(self, name)\u001b[0m\n\u001b[0;32m    812\u001b[0m \u001b[38;5;28;01mdef\u001b[39;00m \u001b[38;5;21msearch\u001b[39m(\u001b[38;5;28mself\u001b[39m, name):\n\u001b[1;32m--> 813\u001b[0m     \u001b[38;5;28;01mreturn\u001b[39;00m \u001b[38;5;28mself\u001b[39m\u001b[38;5;241m.\u001b[39mlookup(\u001b[38;5;28;43mself\u001b[39;49m\u001b[38;5;241;43m.\u001b[39;49m\u001b[43mmtime\u001b[49m)\u001b[38;5;241m.\u001b[39msearch(name)\n",
      "File \u001b[1;32mC:\\Program Files\\WindowsApps\\PythonSoftwareFoundation.Python.3.11_3.11.2544.0_x64__qbz5n2kfra8p0\\Lib\\importlib\\metadata\\__init__.py:818\u001b[0m, in \u001b[0;36mFastPath.mtime\u001b[1;34m(self)\u001b[0m\n\u001b[0;32m    815\u001b[0m \u001b[38;5;129m@property\u001b[39m\n\u001b[0;32m    816\u001b[0m \u001b[38;5;28;01mdef\u001b[39;00m \u001b[38;5;21mmtime\u001b[39m(\u001b[38;5;28mself\u001b[39m):\n\u001b[0;32m    817\u001b[0m     \u001b[38;5;28;01mwith\u001b[39;00m suppress(\u001b[38;5;167;01mOSError\u001b[39;00m):\n\u001b[1;32m--> 818\u001b[0m         \u001b[38;5;28;01mreturn\u001b[39;00m os\u001b[38;5;241m.\u001b[39mstat(\u001b[38;5;28mself\u001b[39m\u001b[38;5;241m.\u001b[39mroot)\u001b[38;5;241m.\u001b[39mst_mtime\n\u001b[0;32m    819\u001b[0m     \u001b[38;5;28mself\u001b[39m\u001b[38;5;241m.\u001b[39mlookup\u001b[38;5;241m.\u001b[39mcache_clear()\n",
      "\u001b[1;31mKeyboardInterrupt\u001b[0m: "
     ]
    }
   ],
   "source": [
    "\n",
    "if __name__ == '__main__':\n",
    "    for i in range(NUM_EXECUTIONS):\n",
    "        wandb.init(project='HMSD')\n",
    "        wandb.run.name = 'dit-fold-' + str(i + 1)\n",
    "\n",
    "        train_df, test_df = split_data()\n",
    "        names = ['a', 'b'] \n",
    "        train_dataset = EDPDataset(os.path.join(image_folder), train_df)\n",
    "        test_dataset = EDPDataset(os.path.join(image_folder), test_df)\n",
    "        model = BeitForImageClassification.from_pretrained('microsoft/dit-base').to(DEVICE)\n",
    "\n",
    "        args = TrainingArguments(\n",
    "            output_dir = main_path_output+'dit/checkpoints/fold' + str(i + 1),\n",
    "            logging_dir = main_path_output + 'dit/log', \n",
    "            logging_strategy='epoch',\n",
    "            per_device_train_batch_size= TRAIN_BATCH_SIZE,\n",
    "            per_device_eval_batch_size = VALID_BATCH_SIZE,\n",
    "            num_train_epochs=NUM_EPOCHS,\n",
    "            # fp16=True,\n",
    "            learning_rate=5e-5,\n",
    "            remove_unused_columns=False,\n",
    "            save_strategy=\"epoch\",\n",
    "            evaluation_strategy=\"epoch\",\n",
    "            load_best_model_at_end=True,\n",
    "            dataloader_num_workers=0,\n",
    "            dataloader_pin_memory=True,\n",
    "            run_name=wandb.run.name,\n",
    "            auto_find_batch_size=False,\n",
    "            overwrite_output_dir=True,\n",
    "            save_total_limit=8,\n",
    "            report_to=[\"wandb\"],\n",
    "        ) \n",
    "    \n",
    "        trainer = Trainer(\n",
    "            model=model,\n",
    "            args=args,\n",
    "            train_dataset=train_dataset,\n",
    "            eval_dataset=test_dataset,\n",
    "            data_collator=EDPPictureCollator(),\n",
    "            compute_metrics=metrics,\n",
    "        )\n",
    "        try:\n",
    "            \n",
    "            trainer.train()\n",
    "            \n",
    "            train_acc = trainer.evaluate(eval_dataset=train_dataset)\n",
    "            train_result = {'train_acc': train_acc['eval_acc'], 'train_loss': train_acc['eval_loss']}\n",
    "            wandb.log(train_result)\n",
    "\n",
    "            trainer.compute_metrics = EvalMetrics(main_path_output + 'dit/results', wandb.run.name, True, target_names = names)\n",
    "            test_acc = trainer.evaluate(eval_dataset=test_dataset)\n",
    "            test_result = {'test_acc': test_acc['eval_acc'], 'test_loss': test_acc['eval_loss']}\n",
    "            wandb.log(test_result)\n",
    "\n",
    "            wandb.config = args.to_dict()\n",
    "            save_config(args.to_dict(), os.path.join(main_path_output + 'dit/configs', wandb.run.name + '.yaml').replace('\\\\', '/'))\n",
    "            \n",
    "        except FileNotFoundError as e:\n",
    "            print(f\"Error: {e}\")   \n",
    "        finally:\n",
    "            wandb.finish()\n",
    "            del model, args, trainer"
   ]
  },
  {
   "cell_type": "code",
   "execution_count": null,
   "id": "77f1f678",
   "metadata": {},
   "outputs": [
    {
     "name": "stderr",
     "output_type": "stream",
     "text": [
      "Failed to detect the name of this notebook, you can set it manually with the WANDB_NOTEBOOK_NAME environment variable to enable code saving.\n",
      "\u001b[34m\u001b[1mwandb\u001b[0m: Currently logged in as: \u001b[33mms-allili\u001b[0m (\u001b[33mlarivia_2024\u001b[0m). Use \u001b[1m`wandb login --relogin`\u001b[0m to force relogin\n"
     ]
    },
    {
     "data": {
      "text/html": [
       "wandb version 0.17.0 is available!  To upgrade, please run:\n",
       " $ pip install wandb --upgrade"
      ],
      "text/plain": [
       "<IPython.core.display.HTML object>"
      ]
     },
     "metadata": {},
     "output_type": "display_data"
    },
    {
     "data": {
      "text/html": [
       "Tracking run with wandb version 0.16.3"
      ],
      "text/plain": [
       "<IPython.core.display.HTML object>"
      ]
     },
     "metadata": {},
     "output_type": "display_data"
    },
    {
     "data": {
      "text/html": [
       "Run data is saved locally in <code>c:\\codes_data\\MMTD\\V2\\wandb\\run-20240530_135344-wwrt0vrl</code>"
      ],
      "text/plain": [
       "<IPython.core.display.HTML object>"
      ]
     },
     "metadata": {},
     "output_type": "display_data"
    },
    {
     "data": {
      "text/html": [
       "Syncing run <strong><a href='https://wandb.ai/larivia_2024/HMSD/runs/wwrt0vrl' target=\"_blank\">kind-glade-174</a></strong> to <a href='https://wandb.ai/larivia_2024/HMSD' target=\"_blank\">Weights & Biases</a> (<a href='https://wandb.me/run' target=\"_blank\">docs</a>)<br/>"
      ],
      "text/plain": [
       "<IPython.core.display.HTML object>"
      ]
     },
     "metadata": {},
     "output_type": "display_data"
    },
    {
     "data": {
      "text/html": [
       " View project at <a href='https://wandb.ai/larivia_2024/HMSD' target=\"_blank\">https://wandb.ai/larivia_2024/HMSD</a>"
      ],
      "text/plain": [
       "<IPython.core.display.HTML object>"
      ]
     },
     "metadata": {},
     "output_type": "display_data"
    },
    {
     "data": {
      "text/html": [
       " View run at <a href='https://wandb.ai/larivia_2024/HMSD/runs/wwrt0vrl' target=\"_blank\">https://wandb.ai/larivia_2024/HMSD/runs/wwrt0vrl</a>"
      ],
      "text/plain": [
       "<IPython.core.display.HTML object>"
      ]
     },
     "metadata": {},
     "output_type": "display_data"
    },
    {
     "name": "stderr",
     "output_type": "stream",
     "text": [
      "Some weights of BertForSequenceClassification were not initialized from the model checkpoint at bert-base-multilingual-cased and are newly initialized: ['classifier.bias', 'classifier.weight']\n",
      "You should probably TRAIN this model on a down-stream task to be able to use it for predictions and inference.\n"
     ]
    },
    {
     "data": {
      "application/vnd.jupyter.widget-view+json": {
       "model_id": "2361460c10ef480db52777e6f2273997",
       "version_major": 2,
       "version_minor": 0
      },
      "text/plain": [
       "  0%|          | 0/141 [00:00<?, ?it/s]"
      ]
     },
     "metadata": {},
     "output_type": "display_data"
    },
    {
     "name": "stdout",
     "output_type": "stream",
     "text": [
      "{'loss': 0.7283, 'learning_rate': 3.3333333333333335e-05, 'epoch': 1.0}\n"
     ]
    },
    {
     "data": {
      "application/vnd.jupyter.widget-view+json": {
       "model_id": "8d086db13c0c40168b2335dcafaa414e",
       "version_major": 2,
       "version_minor": 0
      },
      "text/plain": [
       "  0%|          | 0/24 [00:00<?, ?it/s]"
      ]
     },
     "metadata": {},
     "output_type": "display_data"
    },
    {
     "name": "stdout",
     "output_type": "stream",
     "text": [
      "{'eval_loss': 0.18288342654705048, 'eval_acc': 0.9515477792732167, 'eval_runtime': 3.1596, 'eval_samples_per_second': 235.154, 'eval_steps_per_second': 7.596, 'epoch': 1.0}\n",
      "{'loss': 0.2635, 'learning_rate': 1.6666666666666667e-05, 'epoch': 2.0}\n"
     ]
    },
    {
     "data": {
      "application/vnd.jupyter.widget-view+json": {
       "model_id": "304f1e50924445cd9338c35a1eb365de",
       "version_major": 2,
       "version_minor": 0
      },
      "text/plain": [
       "  0%|          | 0/24 [00:00<?, ?it/s]"
      ]
     },
     "metadata": {},
     "output_type": "display_data"
    },
    {
     "name": "stdout",
     "output_type": "stream",
     "text": [
      "{'eval_loss': 0.18821096420288086, 'eval_acc': 0.9582772543741588, 'eval_runtime': 3.1928, 'eval_samples_per_second': 232.714, 'eval_steps_per_second': 7.517, 'epoch': 2.0}\n",
      "{'loss': 0.0432, 'learning_rate': 0.0, 'epoch': 3.0}\n"
     ]
    },
    {
     "data": {
      "application/vnd.jupyter.widget-view+json": {
       "model_id": "3a10577546ef47aca838129c5b7ffaa2",
       "version_major": 2,
       "version_minor": 0
      },
      "text/plain": [
       "  0%|          | 0/24 [00:00<?, ?it/s]"
      ]
     },
     "metadata": {},
     "output_type": "display_data"
    },
    {
     "name": "stdout",
     "output_type": "stream",
     "text": [
      "{'eval_loss': 0.14925289154052734, 'eval_acc': 0.9703903095558546, 'eval_runtime': 3.3027, 'eval_samples_per_second': 224.968, 'eval_steps_per_second': 7.267, 'epoch': 3.0}\n",
      "{'train_runtime': 65.5519, 'train_samples_per_second': 67.824, 'train_steps_per_second': 2.151, 'train_loss': 0.3450001503558869, 'epoch': 3.0}\n"
     ]
    },
    {
     "data": {
      "application/vnd.jupyter.widget-view+json": {
       "model_id": "c1ce432ed29c49acb316f7a5458dba49",
       "version_major": 2,
       "version_minor": 0
      },
      "text/plain": [
       "  0%|          | 0/47 [00:00<?, ?it/s]"
      ]
     },
     "metadata": {},
     "output_type": "display_data"
    },
    {
     "data": {
      "application/vnd.jupyter.widget-view+json": {
       "model_id": "3d0e06937ff748c5b950df053f2c00b9",
       "version_major": 2,
       "version_minor": 0
      },
      "text/plain": [
       "  0%|          | 0/24 [00:00<?, ?it/s]"
      ]
     },
     "metadata": {},
     "output_type": "display_data"
    },
    {
     "data": {
      "image/png": "[encoded data removed]",
      "text/plain": [
       "<Figure size 640x480 with 1 Axes>"
      ]
     },
     "metadata": {},
     "output_type": "display_data"
    },
    {
     "data": {
      "image/png": "[encoded data removed]",
      "text/plain": [
       "<Figure size 640x480 with 2 Axes>"
      ]
     },
     "metadata": {},
     "output_type": "display_data"
    },
    {
     "name": "stdout",
     "output_type": "stream",
     "text": [
      "Error: [Errno 2] No such file or directory: 'C:/codes_data/MMTD/V2/output/bertCAT/configs/bertCAT-fold-1.yaml'\n"
     ]
    },
    {
     "data": {
      "application/vnd.jupyter.widget-view+json": {
       "model_id": "61a47a6ec26e42ee9dcc7db40d69b22d",
       "version_major": 2,
       "version_minor": 0
      },
      "text/plain": [
       "VBox(children=(Label(value='0.001 MB of 0.001 MB uploaded\\r'), FloatProgress(value=1.0, max=1.0)))"
      ]
     },
     "metadata": {},
     "output_type": "display_data"
    },
    {
     "data": {
      "text/html": [
       "<style>\n",
       "    table.wandb td:nth-child(1) { padding: 0 10px; text-align: left ; width: auto;} td:nth-child(2) {text-align: left ; width: 100%}\n",
       "    .wandb-row { display: flex; flex-direction: row; flex-wrap: wrap; justify-content: flex-start; width: 100% }\n",
       "    .wandb-col { display: flex; flex-direction: column; flex-basis: 100%; flex: 1; padding: 10px; }\n",
       "    </style>\n",
       "<div class=\"wandb-row\"><div class=\"wandb-col\"><h3>Run history:</h3><br/><table class=\"wandb\"><tr><td>eval/acc</td><td>▁▂▄█▄</td></tr><tr><td>eval/loss</td><td>██▆▁▆</td></tr><tr><td>eval/runtime</td><td>▁▁▁█▂</td></tr><tr><td>eval/samples_per_second</td><td>█▇▆▅▁</td></tr><tr><td>eval/steps_per_second</td><td>█▇▆▄▁</td></tr><tr><td>test_acc</td><td>▁</td></tr><tr><td>test_loss</td><td>▁</td></tr><tr><td>train/epoch</td><td>▁▁▅▅█████</td></tr><tr><td>train/global_step</td><td>▁▁▅▅███████</td></tr><tr><td>train/learning_rate</td><td>█▅▁</td></tr><tr><td>train/loss</td><td>█▃▁</td></tr><tr><td>train/total_flos</td><td>▁</td></tr><tr><td>train/train_loss</td><td>▁</td></tr><tr><td>train/train_runtime</td><td>▁</td></tr><tr><td>train/train_samples_per_second</td><td>▁</td></tr><tr><td>train/train_steps_per_second</td><td>▁</td></tr><tr><td>train_acc</td><td>▁</td></tr><tr><td>train_loss</td><td>▁</td></tr></table><br/></div><div class=\"wandb-col\"><h3>Run summary:</h3><br/><table class=\"wandb\"><tr><td>eval/acc</td><td>0.97039</td></tr><tr><td>eval/loss</td><td>0.14925</td></tr><tr><td>eval/runtime</td><td>3.5986</td></tr><tr><td>eval/samples_per_second</td><td>206.469</td></tr><tr><td>eval/steps_per_second</td><td>6.669</td></tr><tr><td>test_acc</td><td>0.97039</td></tr><tr><td>test_loss</td><td>0.14925</td></tr><tr><td>train/epoch</td><td>3.0</td></tr><tr><td>train/global_step</td><td>141</td></tr><tr><td>train/learning_rate</td><td>0.0</td></tr><tr><td>train/loss</td><td>0.0432</td></tr><tr><td>train/total_flos</td><td>584911630697472.0</td></tr><tr><td>train/train_loss</td><td>0.345</td></tr><tr><td>train/train_runtime</td><td>65.5519</td></tr><tr><td>train/train_samples_per_second</td><td>67.824</td></tr><tr><td>train/train_steps_per_second</td><td>2.151</td></tr><tr><td>train_acc</td><td>0.9946</td></tr><tr><td>train_loss</td><td>0.0339</td></tr></table><br/></div></div>"
      ],
      "text/plain": [
       "<IPython.core.display.HTML object>"
      ]
     },
     "metadata": {},
     "output_type": "display_data"
    },
    {
     "data": {
      "text/html": [
       " View run <strong style=\"color:#cdcd00\">kind-glade-174</strong> at: <a href='https://wandb.ai/larivia_2024/HMSD/runs/wwrt0vrl' target=\"_blank\">https://wandb.ai/larivia_2024/HMSD/runs/wwrt0vrl</a><br/>Synced 5 W&B file(s), 0 media file(s), 0 artifact file(s) and 0 other file(s)"
      ],
      "text/plain": [
       "<IPython.core.display.HTML object>"
      ]
     },
     "metadata": {},
     "output_type": "display_data"
    },
    {
     "data": {
      "text/html": [
       "Find logs at: <code>.\\wandb\\run-20240530_135344-wwrt0vrl\\logs</code>"
      ],
      "text/plain": [
       "<IPython.core.display.HTML object>"
      ]
     },
     "metadata": {},
     "output_type": "display_data"
    }
   ],
   "source": [
    "cat_dataset_path = 'C:/codes_data/MMTD/V2/bbc-text.csv'\n",
    "split_data = SplitData(cat_dataset_path, fold, index_start_zero)\n",
    "\n",
    "if __name__ == '__main__':\n",
    "    for i in range(NUM_EXECUTIONS):\n",
    "        wandb.init(project='HMSD')\n",
    "        wandb.run.name = 'bertCAT-fold-' + str(i + 1)\n",
    "        train_df, test_df = split_data()\n",
    "\n",
    "        names = ['a', 'b','c','d','e'] \n",
    "        train_dataset = Email_category_dataset(train_df)\n",
    "        test_dataset = Email_category_dataset(test_df)\n",
    "\n",
    "        model = BertForSequenceClassification.from_pretrained('bert-base-multilingual-cased', num_labels=5).to(DEVICE)\n",
    "\n",
    "        args = TrainingArguments(\n",
    "            output_dir=main_path_output + 'bertCAT/checkpoints/fold' + str(i + 1),\n",
    "            logging_dir=main_path_output + 'bertCAT/log',\n",
    "            logging_strategy='epoch',\n",
    "            learning_rate=5e-5,\n",
    "            per_device_train_batch_size= TRAIN_BATCH_SIZE,\n",
    "            per_device_eval_batch_size = VALID_BATCH_SIZE,\n",
    "            num_train_epochs=NUM_EPOCHS,\n",
    "            save_strategy=\"epoch\",\n",
    "            evaluation_strategy=\"epoch\",\n",
    "            load_best_model_at_end=True,\n",
    "            dataloader_num_workers=0,\n",
    "            dataloader_pin_memory=True,\n",
    "            run_name=wandb.run.name,\n",
    "            auto_find_batch_size=False,\n",
    "            overwrite_output_dir=True,\n",
    "            save_total_limit=8,\n",
    "            remove_unused_columns=False,\n",
    "            report_to=[\"wandb\"],\n",
    "        )\n",
    "\n",
    "        trainer = Trainer(\n",
    "            model=model,\n",
    "            args=args,\n",
    "            train_dataset=train_dataset,\n",
    "            eval_dataset=test_dataset,\n",
    "            data_collator=EDPCategoryCollator(),\n",
    "            compute_metrics=metrics,\n",
    "        )\n",
    "\n",
    "        try:\n",
    "            trainer.train()\n",
    "            train_acc = trainer.evaluate(eval_dataset=train_dataset)\n",
    "            train_result = {'train_acc': train_acc['eval_acc'], 'train_loss': train_acc['eval_loss']}\n",
    "            wandb.log(train_result)\n",
    "\n",
    "            trainer.compute_metrics = EvalMetrics(main_path_output + 'bertCAT/results', wandb.run.name, True, target_names = names)\n",
    "            test_acc = trainer.evaluate(eval_dataset=test_dataset)\n",
    "            test_result = {'test_acc': test_acc['eval_acc'], 'test_loss': test_acc['eval_loss']}\n",
    "            wandb.log(test_result)\n",
    "\n",
    "            wandb.config = args.to_dict()\n",
    "\n",
    "            save_config(args.to_dict(), os.path.join(main_path_output + 'bertCAT/configs', wandb.run.name + '.yaml').replace('\\\\', '/'))\n",
    "        except FileNotFoundError as e:\n",
    "            print(f\"Error: {e}\")\n",
    "        finally:\n",
    "            wandb.finish()\n",
    "            del model, args, trainer"
   ]
  },
  {
   "cell_type": "code",
   "execution_count": null,
   "id": "175185b7",
   "metadata": {},
   "outputs": [
    {
     "name": "stderr",
     "output_type": "stream",
     "text": [
      "Failed to detect the name of this notebook, you can set it manually with the WANDB_NOTEBOOK_NAME environment variable to enable code saving.\n",
      "\u001b[34m\u001b[1mwandb\u001b[0m: Currently logged in as: \u001b[33mms-allili\u001b[0m (\u001b[33mlarivia_2024\u001b[0m). Use \u001b[1m`wandb login --relogin`\u001b[0m to force relogin\n"
     ]
    },
    {
     "data": {
      "text/html": [
       "wandb version 0.17.0 is available!  To upgrade, please run:\n",
       " $ pip install wandb --upgrade"
      ],
      "text/plain": [
       "<IPython.core.display.HTML object>"
      ]
     },
     "metadata": {},
     "output_type": "display_data"
    },
    {
     "data": {
      "text/html": [
       "Tracking run with wandb version 0.16.3"
      ],
      "text/plain": [
       "<IPython.core.display.HTML object>"
      ]
     },
     "metadata": {},
     "output_type": "display_data"
    },
    {
     "data": {
      "text/html": [
       "Run data is saved locally in <code>c:\\codes_data\\MMTD\\V2\\wandb\\run-20240531_094719-ajkldxn5</code>"
      ],
      "text/plain": [
       "<IPython.core.display.HTML object>"
      ]
     },
     "metadata": {},
     "output_type": "display_data"
    },
    {
     "data": {
      "text/html": [
       "Syncing run <strong><a href='https://wandb.ai/larivia_2024/HMSD/runs/ajkldxn5' target=\"_blank\">winter-plasma-188</a></strong> to <a href='https://wandb.ai/larivia_2024/HMSD' target=\"_blank\">Weights & Biases</a> (<a href='https://wandb.me/run' target=\"_blank\">docs</a>)<br/>"
      ],
      "text/plain": [
       "<IPython.core.display.HTML object>"
      ]
     },
     "metadata": {},
     "output_type": "display_data"
    },
    {
     "data": {
      "text/html": [
       " View project at <a href='https://wandb.ai/larivia_2024/HMSD' target=\"_blank\">https://wandb.ai/larivia_2024/HMSD</a>"
      ],
      "text/plain": [
       "<IPython.core.display.HTML object>"
      ]
     },
     "metadata": {},
     "output_type": "display_data"
    },
    {
     "data": {
      "text/html": [
       " View run at <a href='https://wandb.ai/larivia_2024/HMSD/runs/ajkldxn5' target=\"_blank\">https://wandb.ai/larivia_2024/HMSD/runs/ajkldxn5</a>"
      ],
      "text/plain": [
       "<IPython.core.display.HTML object>"
      ]
     },
     "metadata": {},
     "output_type": "display_data"
    },
    {
     "name": "stderr",
     "output_type": "stream",
     "text": [
      "Some weights of BertForSequenceClassification were not initialized from the model checkpoint at bert-base-multilingual-cased and are newly initialized: ['classifier.bias', 'classifier.weight']\n",
      "You should probably TRAIN this model on a down-stream task to be able to use it for predictions and inference.\n"
     ]
    },
    {
     "data": {
      "application/vnd.jupyter.widget-view+json": {
       "model_id": "cdf1630c4e0b42ee97a6268222f8b247",
       "version_major": 2,
       "version_minor": 0
      },
      "text/plain": [
       "  0%|          | 0/375 [00:00<?, ?it/s]"
      ]
     },
     "metadata": {},
     "output_type": "display_data"
    },
    {
     "name": "stdout",
     "output_type": "stream",
     "text": [
      "{'loss': 0.4833, 'learning_rate': 3.3333333333333335e-05, 'epoch': 1.0}\n"
     ]
    },
    {
     "data": {
      "application/vnd.jupyter.widget-view+json": {
       "model_id": "498c676299df4d9d99b3ebc515049cdf",
       "version_major": 2,
       "version_minor": 0
      },
      "text/plain": [
       "  0%|          | 0/63 [00:00<?, ?it/s]"
      ]
     },
     "metadata": {},
     "output_type": "display_data"
    },
    {
     "name": "stderr",
     "output_type": "stream",
     "text": [
      "Checkpoint destination directory C:/codes_data/MMTD/V2/output/bertURL/checkpoints/fold1\\checkpoint-125 already exists and is non-empty.Saving will proceed but saved results may be invalid.\n"
     ]
    },
    {
     "name": "stdout",
     "output_type": "stream",
     "text": [
      "{'eval_loss': 0.24457871913909912, 'eval_acc': 0.9226130653266331, 'eval_runtime': 7.1775, 'eval_samples_per_second': 277.254, 'eval_steps_per_second': 8.777, 'epoch': 1.0}\n",
      "{'loss': 0.2043, 'learning_rate': 1.6666666666666667e-05, 'epoch': 2.0}\n"
     ]
    },
    {
     "data": {
      "application/vnd.jupyter.widget-view+json": {
       "model_id": "ff584bad3f2b4d938c7859c114582fc5",
       "version_major": 2,
       "version_minor": 0
      },
      "text/plain": [
       "  0%|          | 0/63 [00:00<?, ?it/s]"
      ]
     },
     "metadata": {},
     "output_type": "display_data"
    },
    {
     "name": "stderr",
     "output_type": "stream",
     "text": [
      "Checkpoint destination directory C:/codes_data/MMTD/V2/output/bertURL/checkpoints/fold1\\checkpoint-250 already exists and is non-empty.Saving will proceed but saved results may be invalid.\n"
     ]
    },
    {
     "name": "stdout",
     "output_type": "stream",
     "text": [
      "{'eval_loss': 0.15583400428295135, 'eval_acc': 0.9603015075376884, 'eval_runtime': 7.2715, 'eval_samples_per_second': 273.67, 'eval_steps_per_second': 8.664, 'epoch': 2.0}\n",
      "{'loss': 0.0869, 'learning_rate': 0.0, 'epoch': 3.0}\n"
     ]
    },
    {
     "data": {
      "application/vnd.jupyter.widget-view+json": {
       "model_id": "3fcf1e1d030d425eae1d8e44624a1f7b",
       "version_major": 2,
       "version_minor": 0
      },
      "text/plain": [
       "  0%|          | 0/63 [00:00<?, ?it/s]"
      ]
     },
     "metadata": {},
     "output_type": "display_data"
    },
    {
     "name": "stderr",
     "output_type": "stream",
     "text": [
      "Checkpoint destination directory C:/codes_data/MMTD/V2/output/bertURL/checkpoints/fold1\\checkpoint-375 already exists and is non-empty.Saving will proceed but saved results may be invalid.\n"
     ]
    },
    {
     "name": "stdout",
     "output_type": "stream",
     "text": [
      "{'eval_loss': 0.16510282456874847, 'eval_acc': 0.9592964824120603, 'eval_runtime': 7.3297, 'eval_samples_per_second': 271.498, 'eval_steps_per_second': 8.595, 'epoch': 3.0}\n",
      "{'train_runtime': 151.315, 'train_samples_per_second': 78.908, 'train_steps_per_second': 2.478, 'train_loss': 0.25816684977213544, 'epoch': 3.0}\n"
     ]
    },
    {
     "data": {
      "application/vnd.jupyter.widget-view+json": {
       "model_id": "2ff7fd4d6f114539a459798aaf1aa890",
       "version_major": 2,
       "version_minor": 0
      },
      "text/plain": [
       "  0%|          | 0/125 [00:00<?, ?it/s]"
      ]
     },
     "metadata": {},
     "output_type": "display_data"
    },
    {
     "data": {
      "application/vnd.jupyter.widget-view+json": {
       "model_id": "e6a1411f2fda48c4b3abd03403a69493",
       "version_major": 2,
       "version_minor": 0
      },
      "text/plain": [
       "  0%|          | 0/63 [00:00<?, ?it/s]"
      ]
     },
     "metadata": {},
     "output_type": "display_data"
    }
   ],
   "source": [
    "if __name__ == '__main__':\n",
    "    \n",
    "    for i in range(NUM_EXECUTIONS):\n",
    "        wandb.init(project='HMSD')\n",
    "        wandb.run.name = 'bert-fold-' + str(i + 1)\n",
    "        train_df, test_df = split_data()   \n",
    "\n",
    "        train_dataset = Email_url_dataset(train_df)\n",
    "        test_dataset = Email_url_dataset(test_df)\n",
    "\n",
    "        names = ['a', 'b', 'c', 'd'] \n",
    "\n",
    "        model = BertForSequenceClassification.from_pretrained('bert-base-multilingual-cased', num_labels=4).to(DEVICE)\n",
    "        args = TrainingArguments(\n",
    "            output_dir=main_path_output + 'bertURL/checkpoints/fold' + str(i + 1),\n",
    "            logging_dir=main_path_output + 'bertURL/log',\n",
    "            logging_strategy='epoch',\n",
    "            learning_rate=5e-5,\n",
    "            per_device_train_batch_size= TRAIN_BATCH_SIZE,\n",
    "            per_device_eval_batch_size = VALID_BATCH_SIZE,\n",
    "            num_train_epochs=NUM_EPOCHS,\n",
    "            save_strategy=\"epoch\",\n",
    "            evaluation_strategy=\"epoch\",\n",
    "            load_best_model_at_end=True,\n",
    "            dataloader_num_workers=0,\n",
    "            dataloader_pin_memory=True,\n",
    "            run_name=wandb.run.name,\n",
    "            auto_find_batch_size=False,\n",
    "            overwrite_output_dir=True,\n",
    "            save_total_limit=8,\n",
    "            remove_unused_columns=False,\n",
    "            report_to=[\"wandb\"],\n",
    "        )\n",
    "\n",
    "        trainer = Trainer(\n",
    "            model=model,\n",
    "            args=args,\n",
    "            train_dataset=train_dataset,\n",
    "            eval_dataset=test_dataset,\n",
    "            data_collator=EDPUrlCollator(),\n",
    "            compute_metrics=metrics,\n",
    "        )\n",
    "\n",
    "        try:\n",
    "            trainer.train()\n",
    "\n",
    "            train_acc = trainer.evaluate(eval_dataset=train_dataset)\n",
    "            train_result = {'train_acc': train_acc['eval_acc'], 'train_loss': train_acc['eval_loss']}\n",
    "            wandb.log(train_result)\n",
    "            trainer.compute_metrics = EvalMetrics(main_path_output + 'bertURL/results', wandb.run.name, True, target_names = names)    \n",
    "                        \n",
    "            test_acc = trainer.evaluate(eval_dataset=test_dataset)\n",
    "            \n",
    "            test_result = {'test_acc': test_acc['eval_acc'], 'test_loss': test_acc['eval_loss']}\n",
    "            wandb.log(test_result)\n",
    "            \n",
    "            wandb.config = args.to_dict()\n",
    "            save_config(args.to_dict(), os.path.join(main_path_output + 'bertURL/configs', wandb.run.name + '.yaml').replace('\\\\', '/'))\n",
    "            \n",
    "            \n",
    "        except FileNotFoundError as e:\n",
    "            print(f\"Error: {e}\")\n",
    "        finally:\n",
    "            wandb.finish()\n",
    "            del model, args, trainer"
   ]
  }
 ],
 "metadata": {
  "kernelspec": {
   "display_name": "Python 3 (ipykernel)",
   "language": "python",
   "name": "python3"
  },
  "language_info": {
   "codemirror_mode": {
    "name": "ipython",
    "version": 3
   },
   "file_extension": ".py",
   "mimetype": "text/x-python",
   "name": "python",
   "nbconvert_exporter": "python",
   "pygments_lexer": "ipython3",
   "version": "3.11.9"
  }
 },
 "nbformat": 4,
 "nbformat_minor": 5
}
